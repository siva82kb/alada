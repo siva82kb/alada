{
 "cells": [
  {
   "cell_type": "markdown",
   "id": "f6c83b9e-1a52-4478-8d97-d24960d47bb2",
   "metadata": {
    "slideshow": {
     "slide_type": "slide"
    },
    "tags": []
   },
   "source": [
    "<h1 style=\"font-family: Arial; color: #bb0000\">Applied Linear Algebra in Data Analysis</h1>\n",
    "\n",
    "<h2 style=\"font-family: Arial; color: #666666\">Application: Signal Processing</h2>\n",
    "\n",
    "\n",
    "\n",
    "<b>Sivakumar Balasubramanian</b><br>\n",
    "Department of Bioengineeering,<br>\n",
    "Christian Medical College Vellore<br>\n",
    "Tamil Nadu\n",
    "\n"
   ]
  },
  {
   "cell_type": "markdown",
   "id": "c1d46a43-e526-4594-abf2-9c03027ca402",
   "metadata": {
    "slideshow": {
     "slide_type": "slide"
    },
    "tags": []
   },
   "source": [
    "<h2 style=\"color: #bb0000\">Signals a Vectors</h2>\n",
    "\n",
    "**What is a signal?** A signal is a function of an independent variable that conveys some information.\n",
    "\n",
    "<img src=\"figs/breathing_t.svg\" style=\"display: block; margin-left: auto; margin-right: auto; width:100%;\">"
   ]
  },
  {
   "cell_type": "markdown",
   "id": "9b4b7114",
   "metadata": {
    "slideshow": {
     "slide_type": "subslide"
    }
   },
   "source": [
    "<img src=\"figs/breathing_t.svg\" style=\"display: block; margin-left: auto; margin-right: auto; width:70%;\">\n",
    "\n",
    "$x[n]$ in the above figure is a finite length signal of length $N$, where $n \\in \\mb{Z}, 0 \\leq n < N$.\n",
    "\n",
    "We can think of signal as a vector $\\mf{x}$ in $\\mb{R}^N$, i.e. this entire signal will be a point in $N$-dimensional space. Here, $N= 180$.\n",
    "\n",
    "$$ \\mf{x} = \\bmx x[0] & x[1] & x[2] & \\cdots & x[N-1]\\emx^\\top $$"
   ]
  },
  {
   "cell_type": "markdown",
   "id": "05f0812f",
   "metadata": {
    "slideshow": {
     "slide_type": "subslide"
    }
   },
   "source": [
    "<img src=\"figs/breathing_t.svg\" style=\"display: block; margin-left: auto; margin-right: auto; width:70%;\">\n",
    "\n",
    "The above representation of $x[n]$ is in the standard basis $\\lc \\mf{e}_1, \\mf{e}_2, \\ldots \\mf{e}_N\\rc$.\n",
    "\n",
    "$$ \\mf{x} = x[0] \\cdot \\mf{e}_1 + x[1] \\cdot \\mf{e}_2 + \\cdots + x[N-1] \\cdot \\mf{e}_N $$\n",
    "\n",
    "\n",
    "What would this signal look like in a different basis?"
   ]
  },
  {
   "cell_type": "markdown",
   "id": "aca9ec07",
   "metadata": {
    "slideshow": {
     "slide_type": "slide"
    }
   },
   "source": [
    "<h2 style=\"color: #bb0000\">Discrete Fourier Transform: the Fourier Basis</h2>\n",
    "\n",
    "For rhythmic signals, the Fourier basis is often useful. We will need to switch to the complex vector space $\\mb{C}^N$ to work with the Fourier basis.\n",
    "    \n",
    "Consider the following complex exponential signals of length $N$,\n",
    "$$\n",
    "  \\begin{split}\n",
    "    w_k[n] &= e^{j \\frac{2\\pi k}{N}n}, \\,\\, 0 \\leq n, k < N \\\\\n",
    "           &= \\cos\\lp \\frac{2\\pi k}{N}n\\rp + j \\sin \\lp \\frac{2\\pi k}{N}n\\rp\n",
    "  \\end{split}\n",
    "$$\n",
    "\n",
    "We can represent this as a vector $\\mf{w}_k \\in \\mb{C}^N$, where\n",
    "$$ \\mf{w}_k = \\bmx w_k[0] & w_k[1] & w_k[2] & \\cdots & w_k[N-1] \\emx^\\top, \\,\\,\\ 0 \\leq k < N-1 $$\n",
    "    \n",
    "There are $N$ such $\\mf{w}_k$ vectors in $\\mb{C}^N$."
   ]
  },
  {
   "cell_type": "markdown",
   "id": "c2b71e4c",
   "metadata": {
    "slideshow": {
     "slide_type": "subslide"
    }
   },
   "source": [
    "The $\\mf{w}_k$ vectors satisfy the following property,\n",
    "$$ \\mf{w}_i^*\\mf{w}_k = \\begin{cases} N &, i = k \\\\ 0 &, i \\neq k \\end{cases} $$\n",
    "\n",
    "We define na orthonomgal basis for $\\mb{C}^N$ as $\\mc{F} = \\lc \\frac{1}{\\sqrt{N}} \\mf{w}_k \\rc_{k=0}^{N-1}$.\n",
    "    \n",
    "Using this orthonormal basis, we define the **Fourier matrix** as the following,\n",
    "$$ \\mf{F}_N = \\frac{1}{\\sqrt{N}} \\bmx \\mf{w}_0 & \\mf{w}_1 & \\cdots & \\mf{w}_{N-1} \\emx $$\n",
    "\n",
    "It can be verified that $\\mf{F}_N$ is a unitary matrix, i.e. $\\mf{F}_N^H \\mf{F}_N = \\mf{I}_N$."
   ]
  },
  {
   "cell_type": "markdown",
   "id": "b77e348e",
   "metadata": {
    "slideshow": {
     "slide_type": "subslide"
    }
   },
   "source": [
    "The representation of a signal $\\mf{x}$ in the Fourier basis is given by,\n",
    "$$ \\mf{x}_{\\mc{F}} = \\mf{F}_{N}^{-1} \\mf{x} = \\mf{F}_N^H \\mf{x} $$\n",
    "\n",
    "$\\mf{x}_{\\mc{F}}$ representation is called the **Discrete Fourier Transform** (DFT) of $\\mf{x}$.\n",
    "\n",
    "The inverse DFT, i.e. obtaining the $\\mf{x}$ from $\\mf{X}_{\\mc{F}}$, is given by,\n",
    "$$ \\mf{x} = \\mf{F}_N \\mf{x}_{\\mc{F}} $$\n",
    "\n",
    "$\\mf{x}$ is the called the *time domain* representation of the signal, while $\\mf{x}_{\\mc{F}}$ is the *frequency domain* representation of the signal."
   ]
  },
  {
   "cell_type": "markdown",
   "id": "39dc789c",
   "metadata": {
    "slideshow": {
     "slide_type": "subslide"
    }
   },
   "source": [
    "Let's dig a little deeper to understand the Fourier basis."
   ]
  },
  {
   "cell_type": "code",
   "execution_count": 6,
   "id": "f981f84e",
   "metadata": {
    "slideshow": {
     "slide_type": "subslide"
    }
   },
   "outputs": [
    {
     "name": "stdout",
     "output_type": "stream",
     "text": [
      "Standard basis representation: \n",
      "[ 1.     0.309 -0.809 -0.809  0.309]\n",
      "Forurier basis representation: \n",
      "[-0.   +0.j  1.118-0.j  0.   -0.j  0.   -0.j  1.118+0.j]\n",
      "Magnitude:      0.00,    1.12,    0.00,    0.00,    1.12\n",
      "Angle.   :      0.00,   -0.00,   -0.00,   -0.00,    0.00\n"
     ]
    }
   ],
   "source": [
    "N = 5\n",
    "FN = fourier_basis(N)\n",
    "\n",
    "# Sinusoidal time-domain signal\n",
    "n = np.arange(N)\n",
    "amp, freq, phase = 1.0, 1.0, 0\n",
    "\n",
    "# Time domain signal\n",
    "x1 = amp * np.cos(2 * np.pi * freq * n / N + phase * np.pi / 180).reshape((-1, 1))\n",
    "\n",
    "# Representation in the Fourier basis\n",
    "Xf1 = FN.conj().T @ x1\n",
    "\n",
    "# Print the representation.\n",
    "print_signals(x1, Xf1)"
   ]
  },
  {
   "cell_type": "markdown",
   "id": "65b8f6e7",
   "metadata": {
    "slideshow": {
     "slide_type": "subslide"
    }
   },
   "source": [
    "<h2 style=\"color: #bb0000\">Sinusoids have sparse representation in the Fourier basis</h2>\n",
    "\n",
    "$$ x_1[n] = A \\sin \\lp 2\\pi \\frac{50}{N} n\\rp$$\n",
    "\n",
    "<img src=\"figs/signal1_fft.svg\" style=\"display: block; margin-left: auto; margin-right: auto; width:80%;\">"
   ]
  },
  {
   "cell_type": "markdown",
   "id": "1306f3c4",
   "metadata": {
    "slideshow": {
     "slide_type": "subslide"
    }
   },
   "source": [
    "<h2 style=\"color: #bb0000\">Sinusoids have sparse representation in the Fourier basis</h2>\n",
    "\n",
    "$$ x_2[n] = A_1 \\sin \\lp 2\\pi \\frac{5}{N} n\\rp + A_2 \\sin \\lp 2\\pi \\frac{25}{N} n\\rp + A_3 \\sin \\lp 2\\pi \\frac{50}{N} n\\rp + A_4 \\sin \\lp 2\\pi \\frac{350}{N} n\\rp$$\n",
    "\n",
    "<img src=\"figs/signal2_fft.svg\" style=\"display: block; margin-left: auto; margin-right: auto; width:80%;\">"
   ]
  },
  {
   "cell_type": "markdown",
   "id": "09694324",
   "metadata": {
    "slideshow": {
     "slide_type": "subslide"
    }
   },
   "source": [
    "<h2 style=\"color: #bb0000\">Sinusoids have sparse representation in the Fourier basis</h2>\n",
    "\n",
    "What happens when the frequency index $k$ is not an integer.\n",
    "$$ x_2[n] = A_1 \\sin \\lp 2\\pi \\frac{76.1}{N} n\\rp $$\n",
    "\n",
    "<img src=\"figs/signal3_fft.svg\" style=\"display: block; margin-left: auto; margin-right: auto; width:80%;\">"
   ]
  },
  {
   "cell_type": "markdown",
   "id": "47f47a62",
   "metadata": {
    "slideshow": {
     "slide_type": "slide"
    }
   },
   "source": [
    "<h2 style=\"color: #bb0000\">Frequency domain representation of $x[n]$</h2>\n",
    "\n",
    "<img src=\"figs/breathing_t.svg\" style=\"display: block; margin-left: auto; margin-right: auto; width:100%;\">\n",
    "\n",
    "<img src=\"figs/breathing_fft.svg\" style=\"display: block; margin-left: auto; margin-right: auto; width:100%;\">"
   ]
  },
  {
   "cell_type": "markdown",
   "id": "0ff92a73",
   "metadata": {
    "slideshow": {
     "slide_type": "slide"
    }
   },
   "source": [
    "<h2 style=\"color: #bb0000\">Problems with the Fourier Basis</h2>\n",
    "\n",
    "<img src=\"figs/signal_transient.svg\" style=\"display: block; margin-left: auto; margin-right: auto; width:80%;\">"
   ]
  },
  {
   "cell_type": "markdown",
   "id": "d2b4f25a",
   "metadata": {
    "slideshow": {
     "slide_type": "slide"
    }
   },
   "source": [
    "<h2 style=\"color: #bb0000\">Wavelet Basis</h2>\n",
    "\n",
    "Wavelet basis are localized in time and frequency, making them suitable for transient signals.\n",
    "  \n",
    "The **Haar wavelet** is the simplest wavelet basis. Consider a the vector space $\\mb{R}^8$, the Haar wavelet basis $\\mc{W} = \\lc \\mf{h}_k \\rc_{k=1}^8$ for this space is given by,\n",
    "\n",
    "$$\\scriptscriptstyle \\mf{h}_1 = \\frac{1}{\\sqrt{8}}\\bmx 1 \\\\ 1 \\\\ 1 \\\\ 1 \\\\ 1 \\\\ 1 \\\\ 1 \\\\ 1 \\emx \\,\\, \n",
    "  \\mf{h}_2 = \\frac{1}{\\sqrt{8}}\\bmx 1 \\\\ 1 \\\\ 1 \\\\ 1 \\\\ -1 \\\\ -1 \\\\ -1 \\\\ -1 \\emx \\,\\, \n",
    "  \\mf{h}_3 = \\frac{1}{2}\\bmx 1 \\\\ 1 \\\\ -1 \\\\ -1 \\\\ 0 \\\\ 0 \\\\ 0 \\\\ 0 \\emx \\,\\, \n",
    "  \\mf{h}_4 = \\frac{1}{2}\\bmx 0 \\\\ 0 \\\\ 0 \\\\ 0 \\\\ 1 \\\\ 1 \\\\ -1 \\\\ -1 \\emx \\,\\, \n",
    "  \\mf{h}_5 = \\frac{1}{\\sqrt{2}}\\bmx 1 \\\\ -1 \\\\ 0 \\\\ 0 \\\\ 0 \\\\ 0 \\\\ 0 \\\\ 0 \\emx \\,\\, \n",
    "  \\mf{h}_6 = \\frac{1}{\\sqrt{2}}\\bmx 0 \\\\ 0 \\\\ 1 \\\\ -1 \\\\ 0 \\\\ 0 \\\\ 0 \\\\ 0 \\emx \\,\\, \n",
    "  \\mf{h}_7 = \\frac{1}{\\sqrt{2}}\\bmx 0 \\\\ 0 \\\\ 0 \\\\ 0 \\\\ 1 \\\\ -1 \\\\ 0 \\\\ 0 \\emx \\,\\, \n",
    "  \\mf{h}_8 = \\frac{1}{\\sqrt{2}}\\bmx 0 \\\\ 0 \\\\ 0 \\\\ 0 \\\\ 0 \\\\ 0 \\\\ 1 \\\\ -1 \\emx $$\n",
    "  \n",
    "$$ \\mf{W}_8 = \\bmx \\mf{h}_1 & \\mf{h}_2 & \\mf{h}_3 & \\mf{h}_4 & \\mf{h}_5 & \\mf{h}_6 & \\mf{h}_7 & \\mf{h}_8 \\emx $$"
   ]
  },
  {
   "cell_type": "markdown",
   "id": "ad266363",
   "metadata": {
    "slideshow": {
     "slide_type": "subslide"
    }
   },
   "source": [
    "The wavelet basis is a an orthonormal basis for $\\mb{R}^8$.\n",
    "$$  \\mf{W}_8^H \\mf{W}_8 = \\mf{I} $$\n",
    "\n",
    "Let $x[n], \\,\\, 0 \\leq n < 8$ be a signal of length $8$, which can represented in the standard basis of $\\mb{R}^8$ as,\n",
    "$$ \\mf{x} = \\bmx x[0] & x[1] & x[2] & \\cdots & x[7] \\emx^\\top $$\n",
    "\n",
    "The resentation of this signal is the wavelet basis is given by,\n",
    "$$ \\mf{x}_{\\mc{W}} = \\mf{W}_8^{-1} \\mf{x} = \\mf{W}_8^{\\top} \\mf{x} $$"
   ]
  },
  {
   "cell_type": "markdown",
   "id": "120a379a",
   "metadata": {
    "slideshow": {
     "slide_type": "subslide"
    }
   },
   "source": [
    "The Haar wavelet provides a sparse representation of the red and blue signals, because they are well matched with the Haar bases.\n",
    "\n",
    "<img src=\"figs/signal_transient_wavedec.svg\" style=\"display: block; margin-left: auto; margin-right: auto; width:80%;\">\n"
   ]
  },
  {
   "cell_type": "markdown",
   "id": "a7b379c1",
   "metadata": {
    "slideshow": {
     "slide_type": "subslide"
    }
   },
   "source": [
    "When the signal is not well matched with the wavelet basis, the representation is not sparse or less sparse.\n",
    "\n",
    "<img src=\"figs/sine_transient_wavedec.svg\" style=\"display: block; margin-left: auto; margin-right: auto; width:80%;\">\n"
   ]
  },
  {
   "cell_type": "code",
   "execution_count": null,
   "id": "e3837281",
   "metadata": {},
   "outputs": [],
   "source": []
  },
  {
   "cell_type": "code",
   "execution_count": null,
   "id": "35da7115",
   "metadata": {},
   "outputs": [],
   "source": []
  },
  {
   "cell_type": "code",
   "execution_count": null,
   "id": "eeb4032d",
   "metadata": {},
   "outputs": [],
   "source": []
  },
  {
   "cell_type": "markdown",
   "id": "f5220d40",
   "metadata": {
    "slideshow": {
     "slide_type": "slide"
    }
   },
   "source": []
  },
  {
   "cell_type": "markdown",
   "id": "f9048343",
   "metadata": {
    "slideshow": {
     "slide_type": "skip"
    }
   },
   "source": [
    "Definiting custom latex commands:\n",
    "\n",
    "$$\n",
    "\\newcommand{\\mb}{\\mathbb}\n",
    "\\newcommand{\\mf}{\\mathbf}\n",
    "\\newcommand{\\mc}{\\mathcal}\n",
    "\\newcommand{\\bmx}{\\begin{bmatrix}}\n",
    "\\newcommand{\\emx}{\\end{bmatrix}}\n",
    "\\newcommand{\\lc}{\\left\\{}\n",
    "\\newcommand{\\rc}{\\right\\}}\n",
    "\\newcommand{\\lp}{\\left(}\n",
    "\\newcommand{\\rp}{\\right)}\n",
    "$$"
   ]
  },
  {
   "cell_type": "code",
   "execution_count": 50,
   "id": "027c4613",
   "metadata": {},
   "outputs": [],
   "source": [
    "import numpy as np\n",
    "import sys\n",
    "np.set_printoptions(precision=3, suppress=True)\n",
    "\n",
    "def fourier_basis(N: int) -> np.array:\n",
    "    \"\"\"Returns the Fourier basis in C^N.\n",
    "    \"\"\"\n",
    "    return np.array([\n",
    "        [np.exp((2 * np.pi * k * n * 1j) / N) for k in range(N)]\n",
    "        for n in range(N)\n",
    "    ]) / np.sqrt(N)\n",
    "\n",
    "\n",
    "def get_angle(x: np.array) -> np.array:\n",
    "    \"\"\"Retuns angle for the given complex number.\n",
    "    When the absolute value is 0, it returns 0 as the\n",
    "    angle.\"\"\"\n",
    "    _nonzero = np.sign(np.around(np.abs(x)))\n",
    "    return _nonzero * np.array(\n",
    "        np.rad2deg(np.angle(x))\n",
    "    )\n",
    "\n",
    "def print_signals(xt: np.array, Xf: np.array):\n",
    "    \"\"\"Print the time data.\n",
    "    \"\"\"\n",
    "    print(\"Standard basis representation: \")\n",
    "    print(xt.T[0])\n",
    "    print(\"Forurier basis representation: \")\n",
    "    print(Xf.T[0])\n",
    "    print(\"Magnitude: \", ','.join([f\"{_r:-8.2f}\" for _r in np.abs(Xf.T[0])]))\n",
    "    print(\"Angle.   : \", ','.join([f\"{_r:-8.2f}\" for _r in get_angle(Xf.T[0])]))\n",
    "    \n",
    "def haar_basis(N: int) -> np.array:\n",
    "    \"\"\"Returns the Haar basis in R^N.\n",
    "    \"\"\"\n",
    "    if N % 2 != 0:\n",
    "        raise ValueError(\"N must be a power of 2\")\n",
    "    \n",
    "    H = np.zeros((N, N))\n",
    "    H[:, 0] = 1 / np.sqrt(N)\n",
    "\n",
    "    # Compute the Haar wavelet basis\n",
    "    step = 1\n",
    "\n",
    "    for i in range(1, N):\n",
    "        j = int(np.floor(np.log2(i)))\n",
    "        shift = N // (2 ** j)\n",
    "        k = (i % 2 ** j) * shift\n",
    "        H[k:k+shift//2, i] = 1 / np.sqrt(shift)\n",
    "        H[k+shift//2:k+shift, i] = - 1 / np.sqrt(shift)\n",
    "    return H"
   ]
  },
  {
   "cell_type": "code",
   "execution_count": 49,
   "id": "a1241430",
   "metadata": {},
   "outputs": [],
   "source": [
    "def haar_basis(N: int) -> np.array:\n",
    "    \"\"\"Returns the Haar basis in R^N.\n",
    "    \"\"\"\n",
    "    if N % 2 != 0:\n",
    "        raise ValueError(\"N must be a power of 2\")\n",
    "    \n",
    "    H = np.zeros((N, N))\n",
    "    H[:, 0] = 1 / np.sqrt(N)\n",
    "\n",
    "    # Compute the Haar wavelet basis\n",
    "    step = 1\n",
    "\n",
    "    for i in range(1, N):\n",
    "        j = int(np.floor(np.log2(i)))\n",
    "        shift = N // (2 ** j)\n",
    "        print(i, j, shift, i % 2 ** j)\n",
    "        k = (i % 2 ** j) * shift\n",
    "        H[k:k+shift//2, i] = 1 / np.sqrt(shift)\n",
    "        H[k+shift//2:k+shift, i] = - 1 / np.sqrt(shift)\n",
    "    return H"
   ]
  },
  {
   "cell_type": "code",
   "execution_count": null,
   "id": "a17acf64",
   "metadata": {},
   "outputs": [],
   "source": []
  },
  {
   "cell_type": "code",
   "execution_count": null,
   "id": "910f3f29",
   "metadata": {},
   "outputs": [],
   "source": []
  },
  {
   "cell_type": "code",
   "execution_count": 3,
   "id": "2ca49e60",
   "metadata": {},
   "outputs": [
    {
     "name": "stdout",
     "output_type": "stream",
     "text": [
      "[ 0.93  -0.673 -0.454  0.994]\n",
      "[0.398+0.j    0.692+0.833j 0.077-0.j    0.692-0.833j]\n",
      "[0.398 1.083 0.077 1.083]\n",
      "[  0.     50.304  -0.    -50.304]\n"
     ]
    }
   ],
   "source": [
    "N = 4\n",
    "W4 = fourier_basis(N)\n",
    "n = np.arange(N)\n",
    "\n",
    "# Sinusoidal signal\n",
    "f = 1.23\n",
    "x1 = np.cos(2 * np.pi * f * n / N + 0.12 * np.pi).reshape((-1, 1))\n",
    "\n",
    "Xf1 = W4.conj().T @ x1\n",
    "\n",
    "print(x1.T[0])\n",
    "print(Xf1.T[0])\n",
    "print(np.abs(Xf1.T[0]))\n",
    "print(get_angle(Xf1.T[0]))"
   ]
  },
  {
   "cell_type": "code",
   "execution_count": null,
   "id": "a29dbc50",
   "metadata": {},
   "outputs": [],
   "source": []
  },
  {
   "cell_type": "code",
   "execution_count": 28,
   "id": "15e1e81e",
   "metadata": {},
   "outputs": [
    {
     "name": "stdout",
     "output_type": "stream",
     "text": [
      "[0. 1. 0. 1.]\n"
     ]
    }
   ],
   "source": [
    "print(np.sign(np.around(np.abs(Xf1.T[0]), 3)))"
   ]
  },
  {
   "cell_type": "code",
   "execution_count": null,
   "id": "f70a8a3a",
   "metadata": {},
   "outputs": [],
   "source": []
  }
 ],
 "metadata": {
  "celltoolbar": "Slideshow",
  "kernelspec": {
   "display_name": "Python 3 (ipykernel)",
   "language": "python",
   "name": "python3"
  },
  "language_info": {
   "codemirror_mode": {
    "name": "ipython",
    "version": 3
   },
   "file_extension": ".py",
   "mimetype": "text/x-python",
   "name": "python",
   "nbconvert_exporter": "python",
   "pygments_lexer": "ipython3",
   "version": "3.10.14"
  },
  "rise": {
   "theme": "white"
  }
 },
 "nbformat": 4,
 "nbformat_minor": 5
}
