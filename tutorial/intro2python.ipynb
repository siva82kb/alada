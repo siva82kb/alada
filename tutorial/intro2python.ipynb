{
  "nbformat": 4,
  "nbformat_minor": 0,
  "metadata": {
    "celltoolbar": "Slideshow",
    "kernelspec": {
      "display_name": "Python 3",
      "language": "python",
      "name": "python3"
    },
    "language_info": {
      "codemirror_mode": {
        "name": "ipython",
        "version": 3
      },
      "file_extension": ".py",
      "mimetype": "text/x-python",
      "name": "python",
      "nbconvert_exporter": "python",
      "pygments_lexer": "ipython3",
      "version": "3.7.6"
    },
    "colab": {
      "provenance": [],
      "collapsed_sections": [
        "00mFStexOxL2",
        "tn70wwXHPq88",
        "DgdfMHgVPk-S",
        "TcbceahwOxM6",
        "dUdsS0hTOxOZ",
        "4-Vd5bBCOxOy",
        "l4KWOTHrpgx0",
        "ZZZR_3xl0cBi",
        "sgt3IdHd08Og",
        "EyCztH-m1Cdt",
        "RWBOm1I91lD-",
        "ytJgV-Fq6FM6",
        "U1wTviLt6RV9",
        "UkW-LFXn6Xud",
        "9ghQSmTf6p0j",
        "YA_ONYma_2ml",
        "YwXsQGvWClqL",
        "80dZMMYsfECa",
        "up0U4mpggrSb",
        "Q-jgfG2itWIh"
      ],
      "toc_visible": true
    }
  },
  "cells": [
    {
      "cell_type": "markdown",
      "metadata": {
        "id": "00mFStexOxL2"
      },
      "source": [
        "# Hello World!"
      ]
    },
    {
      "cell_type": "code",
      "metadata": {
        "id": "S5KhPh1_OxMD"
      },
      "source": [
        "print(\"Hello World!\")"
      ],
      "execution_count": null,
      "outputs": []
    },
    {
      "cell_type": "markdown",
      "metadata": {
        "id": "pc5OOyBkOxMn"
      },
      "source": [
        "# Python data types"
      ]
    },
    {
      "cell_type": "markdown",
      "metadata": {
        "id": "tn70wwXHPq88"
      },
      "source": [
        "## Variables\n",
        "Temporary symbols used for storing and retrieving data.\n"
      ]
    },
    {
      "cell_type": "markdown",
      "metadata": {
        "id": "sqet7aHPQVzU"
      },
      "source": [
        "### Can only constain alphabets (a-z, A-z), numeral (0-9), and underscores (_).\n"
      ]
    },
    {
      "cell_type": "code",
      "metadata": {
        "id": "THeSt2cEP3KL"
      },
      "source": [
        "a = 1\n",
        "a1 = 2\n",
        "_a2 = 3"
      ],
      "execution_count": null,
      "outputs": []
    },
    {
      "cell_type": "markdown",
      "metadata": {
        "id": "eaGcTIzOQou0"
      },
      "source": [
        "### Cannot start with a numeral."
      ]
    },
    {
      "cell_type": "code",
      "metadata": {
        "id": "qeazJyekQp3v",
        "outputId": "a45363ed-98bc-4488-e818-4e7d0db9050a",
        "colab": {
          "base_uri": "https://localhost:8080/"
        }
      },
      "source": [
        "2a = 12"
      ],
      "execution_count": null,
      "outputs": [
        {
          "output_type": "error",
          "ename": "SyntaxError",
          "evalue": "ignored",
          "traceback": [
            "\u001b[0;36m  File \u001b[0;32m\"<ipython-input-3-2a40090dc4bd>\"\u001b[0;36m, line \u001b[0;32m1\u001b[0m\n\u001b[0;31m    2a = 12\u001b[0m\n\u001b[0m     ^\u001b[0m\n\u001b[0;31mSyntaxError\u001b[0m\u001b[0;31m:\u001b[0m invalid syntax\n"
          ]
        }
      ]
    },
    {
      "cell_type": "markdown",
      "metadata": {
        "id": "DgdfMHgVPk-S"
      },
      "source": [
        "## Numbers: Integers"
      ]
    },
    {
      "cell_type": "code",
      "metadata": {
        "id": "OEY9p2w1OxMr"
      },
      "source": [
        "a = 12\n",
        "b = -45\n",
        "\n",
        "print(a)\n",
        "print(b)"
      ],
      "execution_count": null,
      "outputs": []
    },
    {
      "cell_type": "markdown",
      "metadata": {
        "id": "TcbceahwOxM6"
      },
      "source": [
        "## Numbers: Float (real numbers)"
      ]
    },
    {
      "cell_type": "code",
      "metadata": {
        "id": "Bbsg54bcOxM-"
      },
      "source": [
        "c = -12.345\n",
        "d1 = 4.53e3\n",
        "d2 = 4.53e-1\n",
        "print(c)\n",
        "print(d1)\n",
        "print(d2)"
      ],
      "execution_count": null,
      "outputs": []
    },
    {
      "cell_type": "markdown",
      "metadata": {
        "id": "aW0UaLBPOxNK"
      },
      "source": [
        "## Text: Strings"
      ]
    },
    {
      "cell_type": "code",
      "metadata": {
        "id": "P2Pd4TJoOxNO"
      },
      "source": [
        "msg = \"Hello World\"\n",
        "msg1 = 'Hello World'\n",
        "print(msg)\n",
        "print(msg1)"
      ],
      "execution_count": null,
      "outputs": []
    },
    {
      "cell_type": "markdown",
      "metadata": {
        "id": "tY4SdMQOOxNc"
      },
      "source": [
        "### New line character - '\\n'"
      ]
    },
    {
      "cell_type": "code",
      "metadata": {
        "id": "_rDt1-Q-OxNh"
      },
      "source": [
        "msg2 = \"Hello\\nWorld\"\n",
        "msg3 = \"Hello Wor\\nld\"\n",
        "print(msg2)\n",
        "print(msg3)"
      ],
      "execution_count": null,
      "outputs": []
    },
    {
      "cell_type": "markdown",
      "metadata": {
        "id": "6A07K_6kOxNz"
      },
      "source": [
        "### Multiline string"
      ]
    },
    {
      "cell_type": "code",
      "metadata": {
        "id": "Epw9ZbFcOxN4"
      },
      "source": [
        "msg4 = \"\"\"Hello World!\n",
        "This is me.\"\"\"\n",
        "print(msg4)"
      ],
      "execution_count": null,
      "outputs": []
    },
    {
      "cell_type": "code",
      "metadata": {
        "id": "WIHiHPmlOxOD"
      },
      "source": [
        "msg5 = \"\"\"\n",
        "1   .\n",
        " 1  .\n",
        "  1 .\n",
        "   1.\n",
        "\"\"\"\n",
        "print(msg5)"
      ],
      "execution_count": null,
      "outputs": []
    },
    {
      "cell_type": "markdown",
      "metadata": {
        "id": "g3S0VO6yOxON"
      },
      "source": [
        "### How can you generate the same output at the previous cell without using a multiline string?"
      ]
    },
    {
      "cell_type": "code",
      "metadata": {
        "id": "5G4-HNPNOxOP"
      },
      "source": [],
      "execution_count": null,
      "outputs": []
    },
    {
      "cell_type": "markdown",
      "metadata": {
        "id": "dUdsS0hTOxOZ"
      },
      "source": [
        "## Boolean"
      ]
    },
    {
      "cell_type": "code",
      "metadata": {
        "id": "QDGphjGoOxOf"
      },
      "source": [
        "x = True\n",
        "y = False\n",
        "print(x)\n",
        "print(y)"
      ],
      "execution_count": null,
      "outputs": []
    },
    {
      "cell_type": "markdown",
      "metadata": {
        "id": "4-Vd5bBCOxOy"
      },
      "source": [
        "## List: Collection of different data types"
      ]
    },
    {
      "cell_type": "code",
      "metadata": {
        "id": "qqfg9nDWOxO3"
      },
      "source": [
        "l = [1, 2, 3]\n",
        "print(l)"
      ],
      "execution_count": null,
      "outputs": []
    },
    {
      "cell_type": "code",
      "metadata": {
        "id": "3YTdElxgOxPN"
      },
      "source": [
        "l2 = [1, \"Hello\", 2.14]\n",
        "print(l2)"
      ],
      "execution_count": null,
      "outputs": []
    },
    {
      "cell_type": "code",
      "metadata": {
        "id": "7IhNimH1OxPZ"
      },
      "source": [
        "l3 = []\n",
        "print(l3)"
      ],
      "execution_count": null,
      "outputs": []
    },
    {
      "cell_type": "code",
      "metadata": {
        "id": "G4-nfrpuOxPk"
      },
      "source": [
        "l4 = [1, \"2\", [4, 5], [True]]\n",
        "print(l4)"
      ],
      "execution_count": null,
      "outputs": []
    },
    {
      "cell_type": "markdown",
      "metadata": {
        "id": "aWE37wWTO8O5"
      },
      "source": [
        "# Python Operators"
      ]
    },
    {
      "cell_type": "markdown",
      "metadata": {
        "id": "l4KWOTHrpgx0"
      },
      "source": [
        "## Assignment operator: =, +=, -=, *=, **=, /=, //=, %=\n",
        "\n",
        "$$ \\begin{split}\n",
        "\\text{x = } & \\text{y} &\\longrightarrow \\,\\, \\text{y is assigned to x} \\\\\n",
        "\\text{x += } & \\text{y} &\\longrightarrow \\,\\, \\text{x = x + y} \\\\\n",
        "\\text{x -= } & \\text{y} &\\longrightarrow \\,\\, \\text{x = x - y} \\\\\n",
        "\\text{x *= } & \\text{y} &\\longrightarrow \\,\\, \\text{x = x}\\times\\text{y} \\\\\n",
        "\\text{x **= } & \\text{y} &\\longrightarrow \\,\\, \\text{x = x}^{\\text{y}} \\\\\n",
        "\\text{x /= } & \\text{y} &\\longrightarrow \\,\\, \\text{x = }\\frac{\\text{x}}{\\text{y}} \\\\\n",
        "\\text{x //= } & \\text{y} &\\longrightarrow \\,\\, \\text{Floored divsion of x by y} \\\\\n",
        "\\text{x %= } & \\text{y} &\\longrightarrow \\,\\, \\text{Remainder of the divsion of x by y}\n",
        "\\end{split} $$"
      ]
    },
    {
      "cell_type": "markdown",
      "metadata": {
        "id": "9m9S7fLnmwVY"
      },
      "source": [
        "### x = y"
      ]
    },
    {
      "cell_type": "code",
      "metadata": {
        "id": "VCocqSCqO5dQ"
      },
      "source": [
        "y = 1\n",
        "x = y\n",
        "print(x)\n",
        "print(type(x))"
      ],
      "execution_count": null,
      "outputs": []
    },
    {
      "cell_type": "code",
      "metadata": {
        "id": "WwvedeANqYfx"
      },
      "source": [
        "y = 1.0\n",
        "x = y\n",
        "print(x)\n",
        "print(type(x))"
      ],
      "execution_count": null,
      "outputs": []
    },
    {
      "cell_type": "code",
      "metadata": {
        "id": "LMlNXY8vqZCX"
      },
      "source": [
        "y = \"hello\"\n",
        "x = y\n",
        "print(x)\n",
        "print(type(x))"
      ],
      "execution_count": null,
      "outputs": []
    },
    {
      "cell_type": "markdown",
      "metadata": {
        "id": "0H9dBKp1m3K5"
      },
      "source": [
        "### x += y"
      ]
    },
    {
      "cell_type": "code",
      "metadata": {
        "id": "rFtJl76YOxPt"
      },
      "source": [
        "x = 1\n",
        "y = 5\n",
        "x += y\n",
        "print(x)"
      ],
      "execution_count": null,
      "outputs": []
    },
    {
      "cell_type": "markdown",
      "metadata": {
        "id": "0ctoBB3tnBM5"
      },
      "source": [
        "### x -= y"
      ]
    },
    {
      "cell_type": "code",
      "metadata": {
        "id": "HCNB9zyImtaT"
      },
      "source": [
        "x = 1\n",
        "y = 5\n",
        "x -= y\n",
        "print(x)"
      ],
      "execution_count": null,
      "outputs": []
    },
    {
      "cell_type": "markdown",
      "metadata": {
        "id": "mQbIU22vnQ45"
      },
      "source": [
        "### x *= y"
      ]
    },
    {
      "cell_type": "code",
      "metadata": {
        "id": "6sg41PC9nFHx"
      },
      "source": [
        "x = 1\n",
        "y = 5\n",
        "x *= y\n",
        "print(x)"
      ],
      "execution_count": null,
      "outputs": []
    },
    {
      "cell_type": "markdown",
      "metadata": {
        "id": "nxi1T6YqnfLy"
      },
      "source": [
        "### x **= y"
      ]
    },
    {
      "cell_type": "code",
      "metadata": {
        "id": "Hd1ftpQznXTp"
      },
      "source": [
        "x = 2\n",
        "y = 3\n",
        "x **= y\n",
        "print(x)"
      ],
      "execution_count": null,
      "outputs": []
    },
    {
      "cell_type": "markdown",
      "metadata": {
        "id": "89P-Fof3nmws"
      },
      "source": [
        "### x /= y"
      ]
    },
    {
      "cell_type": "code",
      "metadata": {
        "id": "LeggNhj_nl2s"
      },
      "source": [
        "x = 3\n",
        "y = 4\n",
        "x /= y\n",
        "print(x)"
      ],
      "execution_count": null,
      "outputs": []
    },
    {
      "cell_type": "markdown",
      "metadata": {
        "id": "3D0_oFUJntW-"
      },
      "source": [
        "### x //= y"
      ]
    },
    {
      "cell_type": "code",
      "metadata": {
        "id": "3Xo1L-aknra4"
      },
      "source": [
        "x = 3\n",
        "y = 4\n",
        "x //= y\n",
        "print(x)"
      ],
      "execution_count": null,
      "outputs": []
    },
    {
      "cell_type": "code",
      "metadata": {
        "id": "_2aH7UDun_ET"
      },
      "source": [
        "x = 5\n",
        "y = 4\n",
        "x //= y\n",
        "print(x)"
      ],
      "execution_count": null,
      "outputs": []
    },
    {
      "cell_type": "markdown",
      "metadata": {
        "id": "ltEHgJ9KnxnE"
      },
      "source": [
        "### x %= y"
      ]
    },
    {
      "cell_type": "code",
      "metadata": {
        "id": "h41wgo-tnvd_"
      },
      "source": [
        "x = 3\n",
        "y = 4\n",
        "x %= y\n",
        "print(x)"
      ],
      "execution_count": null,
      "outputs": []
    },
    {
      "cell_type": "code",
      "metadata": {
        "id": "0VG4QGcyn28g"
      },
      "source": [
        "x = 4\n",
        "y = 4\n",
        "x %= y\n",
        "print(x)"
      ],
      "execution_count": null,
      "outputs": []
    },
    {
      "cell_type": "markdown",
      "metadata": {
        "id": "-p3mgcAmpalK"
      },
      "source": [
        "## Arithmetic operators"
      ]
    },
    {
      "cell_type": "markdown",
      "metadata": {
        "id": "ZZZR_3xl0cBi"
      },
      "source": [
        "### Addition"
      ]
    },
    {
      "cell_type": "code",
      "metadata": {
        "id": "7SJwMoBUn4-d"
      },
      "source": [
        "a = 2 + 3\n",
        "print(a)"
      ],
      "execution_count": null,
      "outputs": []
    },
    {
      "cell_type": "code",
      "metadata": {
        "id": "BWwrT-1M1Evr"
      },
      "source": [
        "a = 1.1 + 0.65\n",
        "print(a)"
      ],
      "execution_count": null,
      "outputs": []
    },
    {
      "cell_type": "markdown",
      "metadata": {
        "id": "sgt3IdHd08Og"
      },
      "source": [
        "### Subtraction"
      ]
    },
    {
      "cell_type": "code",
      "metadata": {
        "id": "lVfOSxmVp3Uv"
      },
      "source": [
        "a = 12.0 - 14.0\n",
        "print(a)"
      ],
      "execution_count": null,
      "outputs": []
    },
    {
      "cell_type": "code",
      "metadata": {
        "id": "1I7KpHlUp66j"
      },
      "source": [
        "a = 12.1 - 14.5\n",
        "print(a)"
      ],
      "execution_count": null,
      "outputs": []
    },
    {
      "cell_type": "markdown",
      "metadata": {
        "id": "EyCztH-m1Cdt"
      },
      "source": [
        "### Multiplication"
      ]
    },
    {
      "cell_type": "code",
      "metadata": {
        "id": "HnGfG2S3qg62"
      },
      "source": [
        "a = 2 * 3\n",
        "print(a)"
      ],
      "execution_count": null,
      "outputs": []
    },
    {
      "cell_type": "code",
      "metadata": {
        "id": "AKnb-vnP1bLi"
      },
      "source": [
        "a  = 2.1 * 3.4\n",
        "print(a)"
      ],
      "execution_count": null,
      "outputs": []
    },
    {
      "cell_type": "markdown",
      "metadata": {
        "id": "RWBOm1I91lD-"
      },
      "source": [
        "### Division"
      ]
    },
    {
      "cell_type": "code",
      "metadata": {
        "id": "39rcG5Sr1dxM"
      },
      "source": [
        "a = 2 / 3\n",
        "print(a)"
      ],
      "execution_count": null,
      "outputs": []
    },
    {
      "cell_type": "code",
      "metadata": {
        "id": "H-QrvEvB5-IL"
      },
      "source": [
        "a = 3.6 / 1.2\n",
        "print(a)"
      ],
      "execution_count": null,
      "outputs": []
    },
    {
      "cell_type": "markdown",
      "metadata": {
        "id": "ytJgV-Fq6FM6"
      },
      "source": [
        "### Exponentiation"
      ]
    },
    {
      "cell_type": "code",
      "metadata": {
        "id": "TCWqsuo46A8_"
      },
      "source": [
        "a = 2 ** 4\n",
        "print(a)"
      ],
      "execution_count": null,
      "outputs": []
    },
    {
      "cell_type": "markdown",
      "metadata": {
        "id": "U1wTviLt6RV9"
      },
      "source": [
        "### Floored division"
      ]
    },
    {
      "cell_type": "code",
      "metadata": {
        "id": "B5qVxoND6Ndq"
      },
      "source": [
        "a = 33 // 2\n",
        "print(a)"
      ],
      "execution_count": null,
      "outputs": []
    },
    {
      "cell_type": "markdown",
      "metadata": {
        "id": "UkW-LFXn6Xud"
      },
      "source": [
        "### Mod"
      ]
    },
    {
      "cell_type": "code",
      "metadata": {
        "id": "JsW6yJ_n6VIz"
      },
      "source": [
        "a = 33 % 2\n",
        "print(a)"
      ],
      "execution_count": null,
      "outputs": []
    },
    {
      "cell_type": "markdown",
      "metadata": {
        "id": "9ghQSmTf6p0j"
      },
      "source": [
        "### Order of operators\n",
        "#### Paranthesis -> Exponents -> Division -> Multiplication -> Addition -> Subraction"
      ]
    },
    {
      "cell_type": "code",
      "metadata": {
        "id": "8Y72dTV56cbF"
      },
      "source": [
        "print(4 + (2 - 3) - 12 / 2 * 3 + 12 / 2 ** 2)\n",
        "print(\"\"\"\n",
        "4 + (2 - 3) - 12 / 2 * 3 + 12 / 2 ** 2\n",
        "4 - 1 - 12 / 2 * 3 + 12 / 2 ** 2\n",
        "4 - 1 - 12 / 2 * 3 + 12 / 4\n",
        "4 - 1 - 6 * 3 + 3\n",
        "4 - 1 - 18 + 3\n",
        "7 - 1 - 18\n",
        "-12\n",
        "\"\"\")"
      ],
      "execution_count": null,
      "outputs": []
    },
    {
      "cell_type": "markdown",
      "metadata": {
        "id": "YA_ONYma_2ml"
      },
      "source": [
        "## Logical operators"
      ]
    },
    {
      "cell_type": "markdown",
      "metadata": {
        "id": "b8YiJZ3w_58q"
      },
      "source": [
        "### equal to"
      ]
    },
    {
      "cell_type": "code",
      "metadata": {
        "id": "HXrIOS1N8F6U"
      },
      "source": [
        "print(1 == 1)\n",
        "a = 1 == 1\n",
        "b = 1 == 2\n",
        "print(a)\n",
        "print(b)"
      ],
      "execution_count": null,
      "outputs": []
    },
    {
      "cell_type": "code",
      "metadata": {
        "id": "zKgWylRJW496"
      },
      "source": [
        "print(1 == 1.0)"
      ],
      "execution_count": null,
      "outputs": []
    },
    {
      "cell_type": "code",
      "metadata": {
        "id": "urOxIUXMWntt"
      },
      "source": [
        "a = [1, 2.0, \"3\"]\n",
        "print(a == [1, 2.0, \"3\"])\n",
        "print(a == [1.0, 2.0, \"3\"])\n",
        "print(a == [1.0, 2.0, \"3.0\"])"
      ],
      "execution_count": null,
      "outputs": []
    },
    {
      "cell_type": "markdown",
      "metadata": {
        "id": "SsJxYLNAAIED"
      },
      "source": [
        "### not equal to"
      ]
    },
    {
      "cell_type": "code",
      "metadata": {
        "id": "NskeLTd3AFL3"
      },
      "source": [
        "a = 1 != 1\n",
        "b = 1 != 2\n",
        "print(a)\n",
        "print(b)"
      ],
      "execution_count": null,
      "outputs": []
    },
    {
      "cell_type": "markdown",
      "metadata": {
        "id": "W-N67Xm3ALF-"
      },
      "source": [
        "### less than / less than or equal to"
      ]
    },
    {
      "cell_type": "code",
      "metadata": {
        "id": "GE8EJ2oQAFQg"
      },
      "source": [
        "a = 1 < 2\n",
        "b = 1 <=2\n",
        "c = 2 <= 2\n",
        "d = 3 <= 2\n",
        "print(a)\n",
        "print(b)\n",
        "print(c)\n",
        "print(d)"
      ],
      "execution_count": null,
      "outputs": []
    },
    {
      "cell_type": "markdown",
      "metadata": {
        "id": "HCf8ZPH1ANUY"
      },
      "source": [
        "### greater than / greater than equal to"
      ]
    },
    {
      "cell_type": "code",
      "metadata": {
        "id": "0_jOYBLsAFY9"
      },
      "source": [
        "a = 1 > 2\n",
        "b = 1 >= 2\n",
        "c = 2 >= 2\n",
        "d = 3 >= 2\n",
        "print(a)\n",
        "print(b)\n",
        "print(c)\n",
        "print(d)"
      ],
      "execution_count": null,
      "outputs": []
    },
    {
      "cell_type": "markdown",
      "metadata": {
        "id": "WB04mM70DWVO"
      },
      "source": [
        "### negation"
      ]
    },
    {
      "cell_type": "code",
      "metadata": {
        "id": "dZmPkuBkDfcI"
      },
      "source": [
        "print(not True)\n",
        "print(not False)"
      ],
      "execution_count": null,
      "outputs": []
    },
    {
      "cell_type": "markdown",
      "metadata": {
        "id": "YwXsQGvWClqL"
      },
      "source": [
        "## Membership operator"
      ]
    },
    {
      "cell_type": "code",
      "metadata": {
        "id": "Hgb5iGpZAFvW"
      },
      "source": [
        "print(\"h\" in \"hello\")\n",
        "print(\"a\" in \"hello\")"
      ],
      "execution_count": null,
      "outputs": []
    },
    {
      "cell_type": "code",
      "metadata": {
        "id": "59gK0PiJAF0Z"
      },
      "source": [
        "print(3 in [1, 2, 3, 4, 5])\n",
        "print(0 in [1, 2, 3, 4, 5])"
      ],
      "execution_count": null,
      "outputs": []
    },
    {
      "cell_type": "markdown",
      "metadata": {
        "id": "tzWm85hDGrox"
      },
      "source": [
        "# Functions\n",
        "\n",
        "A function is a block of code that is executed when it is called. We can pass data (arguments) to a function, and it can return data once it completes execution.\n",
        "\n",
        "Lets us assume that we are interested in evaluating the following mathemtical function for a given value of $x$,\n",
        "$$ f(x) = x^2 - 2x + 1$$"
      ]
    },
    {
      "cell_type": "code",
      "metadata": {
        "id": "jjAE9qPYHN1M"
      },
      "source": [
        "x1 = 2.0\n",
        "x2 = 3.0\n",
        "f1 = x1 ** 2 - 2 * x1 + 1\n",
        "f2 = x2 ** 2 - 2 * x2 + 1\n",
        "print(f\"x1 = {x1}, f(x1) = {f1}\")\n",
        "print(f\"x2 = {x2}, f(x2) = {f2}\")"
      ],
      "execution_count": null,
      "outputs": []
    },
    {
      "cell_type": "markdown",
      "metadata": {
        "id": "H6C44hzNIoSz"
      },
      "source": [
        "It is inefficient to rewrite the entire expression for $f(x)$ each time we want to compute it for a new value of $x$ (e.g. lines 3 and 4 in the cell above). This is where functions are handy."
      ]
    },
    {
      "cell_type": "code",
      "metadata": {
        "id": "C7F-u6HEIbMY"
      },
      "source": [
        "def f(x):\n",
        "  return x ** 2 - 2 * x + 1"
      ],
      "execution_count": null,
      "outputs": []
    },
    {
      "cell_type": "code",
      "metadata": {
        "id": "8721Q2TjJBAL"
      },
      "source": [
        "x1 = 2.0\n",
        "x2 = 3.0\n",
        "f2 = f(x2)\n",
        "f1 = f(x1)\n",
        "print(f\"x1 = {x1}, f(x1) = {f1}\")\n",
        "print(f\"x2 = {x2}, f(x2) = {f2}\")"
      ],
      "execution_count": null,
      "outputs": []
    },
    {
      "cell_type": "markdown",
      "metadata": {
        "id": "80dZMMYsfECa"
      },
      "source": [
        "# Getting input from the user"
      ]
    },
    {
      "cell_type": "code",
      "metadata": {
        "id": "RhcVJ0pjfE4e"
      },
      "source": [
        "a = input()\n",
        "print(a)"
      ],
      "execution_count": null,
      "outputs": []
    },
    {
      "cell_type": "code",
      "metadata": {
        "id": "SMCDqlYLfqzz"
      },
      "source": [
        "a = input(\"Enter your input: \")\n",
        "print(f\"Your input was {a}, which is of type {type(a)}.\")"
      ],
      "execution_count": null,
      "outputs": []
    },
    {
      "cell_type": "markdown",
      "metadata": {
        "id": "up0U4mpggrSb"
      },
      "source": [
        "# Converting between data types"
      ]
    },
    {
      "cell_type": "markdown",
      "metadata": {
        "id": "Q-jgfG2itWIh"
      },
      "source": [
        "## Between different number types"
      ]
    },
    {
      "cell_type": "code",
      "metadata": {
        "id": "6xeoEtDlgqxJ"
      },
      "source": [
        "a = 2.0\n",
        "b = int(a)\n",
        "c = float(b)\n",
        "print(f\"{a}\\tType: {type(a)}\")\n",
        "print(f\"{b}\\tType: {type(b)}\")\n",
        "print(f\"{c}\\tType: {type(c)}\")"
      ],
      "execution_count": null,
      "outputs": []
    },
    {
      "cell_type": "code",
      "metadata": {
        "id": "k7DgATm7w_DZ"
      },
      "source": [
        "a = -562.124\n",
        "b = int(a)\n",
        "c = float(b)\n",
        "print(f\"{a}\\tType: {type(a)}\")\n",
        "print(f\"{b}\\tType: {type(b)}\")\n",
        "print(f\"{c}\\tType: {type(c)}\")"
      ],
      "execution_count": null,
      "outputs": []
    },
    {
      "cell_type": "markdown",
      "metadata": {
        "id": "sey_kqDvx5z7"
      },
      "source": [
        "## Between string and numbers"
      ]
    },
    {
      "cell_type": "code",
      "metadata": {
        "id": "fXxKAsAjxD-_"
      },
      "source": [
        "a = \"2\"\n",
        "b = int(a)\n",
        "c = float(a)\n",
        "print(f\"{a}\\tType: {type(a)}\")\n",
        "print(f\"{b}\\tType: {type(b)}\")\n",
        "print(f\"{c}\\tType: {type(c)}\")"
      ],
      "execution_count": null,
      "outputs": []
    },
    {
      "cell_type": "code",
      "metadata": {
        "id": "FZ6VRoOnyFs5"
      },
      "source": [
        "a = \"2.2\"\n",
        "b = int(a)\n",
        "print(f\"{a}\\tType: {type(a)}\")\n",
        "print(f\"{b}\\tType: {type(b)}\")"
      ],
      "execution_count": null,
      "outputs": []
    },
    {
      "cell_type": "code",
      "metadata": {
        "id": "Az3Mc6CkyPEO"
      },
      "source": [
        "a = \"2.2\"\n",
        "b = float(a)\n",
        "print(f\"{a}\\tType: {type(a)}\")\n",
        "print(f\"{b}\\tType: {type(b)}\")"
      ],
      "execution_count": null,
      "outputs": []
    },
    {
      "cell_type": "code",
      "metadata": {
        "id": "d_wjbwwRyk-o"
      },
      "source": [
        "a = \"h\"\n",
        "b = float(a)\n",
        "print(f\"{a}\\tType: {type(a)}\")\n",
        "print(f\"{b}\\tType: {type(b)}\")"
      ],
      "execution_count": null,
      "outputs": []
    },
    {
      "cell_type": "markdown",
      "metadata": {
        "id": "O9FNcGyGYxMI"
      },
      "source": [
        "# List manipulation"
      ]
    },
    {
      "cell_type": "markdown",
      "metadata": {
        "id": "a_BOX59aBzKI"
      },
      "source": [
        "## Length of a list\n",
        "The number of elements in a list can be obtained from the function len().\n",
        "\n"
      ]
    },
    {
      "cell_type": "code",
      "metadata": {
        "id": "88BjPKGCB_zb",
        "outputId": "5d022e4e-5556-4115-9844-86e2be5f1fca",
        "colab": {
          "base_uri": "https://localhost:8080/",
          "height": 52
        }
      },
      "source": [
        "nums = [2, 3, -1, 4, 10]\n",
        "print(\"Full list:\", nums)\n",
        "print(f\"No. of elements in the list: {len(nums)}\")"
      ],
      "execution_count": null,
      "outputs": [
        {
          "output_type": "stream",
          "text": [
            "Full list: [2, 3, -1, 4, 10]\n",
            "No. of elements in the list: 5\n"
          ],
          "name": "stdout"
        }
      ]
    },
    {
      "cell_type": "markdown",
      "metadata": {
        "id": "ts3H3aM0BOK6"
      },
      "source": [
        "## Accessing elements of a list\n",
        "The individual elements of a list (with N elements) can be accessed using intehger index, starting from 0 to N - 1."
      ]
    },
    {
      "cell_type": "code",
      "metadata": {
        "id": "ir7S6eSeA7E7",
        "outputId": "44101704-eb11-434d-d1f8-df70f726b988",
        "colab": {
          "base_uri": "https://localhost:8080/",
          "height": 86
        }
      },
      "source": [
        "nums = [2, 3, -1, 4, 10]\n",
        "N = len(nums)\n",
        "print(\"Full list:\", nums)\n",
        "print(nums[0])\n",
        "print(nums[2])\n",
        "print(nums[4], nums[N-1])"
      ],
      "execution_count": null,
      "outputs": [
        {
          "output_type": "stream",
          "text": [
            "Full list: [2, 3, -1, 4, 10]\n",
            "2\n",
            "-1\n",
            "10 10\n"
          ],
          "name": "stdout"
        }
      ]
    },
    {
      "cell_type": "markdown",
      "metadata": {
        "id": "bq_jN7r5I236"
      },
      "source": [
        "### How will you access the second last and third last elements a list?"
      ]
    },
    {
      "cell_type": "code",
      "metadata": {
        "id": "fhfQmhU7HvxP"
      },
      "source": [
        "nums = [2, 3, -1, 4, 10]\n",
        "N = len(nums)\n",
        "print(nums[], nums[])\n",
        "\n",
        "# Negative integers can be used to access elements from the back of the list.\n",
        "print(nums[], nums[])"
      ],
      "execution_count": null,
      "outputs": []
    },
    {
      "cell_type": "markdown",
      "metadata": {
        "id": "amxsGVDGJuU2"
      },
      "source": [
        "## Slice of a list\n",
        "Get a sub-list from the original list"
      ]
    },
    {
      "cell_type": "code",
      "metadata": {
        "id": "MY19WjvwKJBW",
        "outputId": "ce275213-146f-42e9-ef91-c6f001540879",
        "colab": {
          "base_uri": "https://localhost:8080/",
          "height": 86
        }
      },
      "source": [
        "nums = [1, 2, 3, 4, 5, 6, 7, 8, 9, 10]\n",
        "N = len(nums)\n",
        "\n",
        "# Obtaining the first few elements of a list.\n",
        "print(nums[0:3])\n",
        "print(nums[:3])\n",
        "newnums = nums[:3]\n",
        "print(nums)\n",
        "print(newnums)"
      ],
      "execution_count": null,
      "outputs": [
        {
          "output_type": "stream",
          "text": [
            "[1, 2, 3]\n",
            "[1, 2, 3]\n",
            "[1, 2, 3, 4, 5, 6, 7, 8, 9, 10]\n",
            "[1, 2, 3]\n"
          ],
          "name": "stdout"
        }
      ]
    },
    {
      "cell_type": "code",
      "metadata": {
        "id": "mdnTGRLBPopx"
      },
      "source": [
        "# Obtaining three elements from the middle.\n",
        "print(nums[3:6])\n",
        "print(nums[3:3+3])"
      ],
      "execution_count": null,
      "outputs": []
    },
    {
      "cell_type": "code",
      "metadata": {
        "id": "mGPt4rpcPp57"
      },
      "source": [
        "# Obtaining the last three elements from the middle.\n",
        "print(nums[-3:])"
      ],
      "execution_count": null,
      "outputs": []
    },
    {
      "cell_type": "code",
      "metadata": {
        "id": "n1Wvln5PPrlw"
      },
      "source": [
        "# All elements of the list.\n",
        "print(nums)\n",
        "print(nums[:N])\n",
        "print(nums[-N:])\n",
        "print(nums[:])"
      ],
      "execution_count": null,
      "outputs": []
    },
    {
      "cell_type": "code",
      "metadata": {
        "id": "4EtgAMu4PtBC",
        "outputId": "a9976ab4-fa8a-4ab2-b65e-144060209193",
        "colab": {
          "base_uri": "https://localhost:8080/",
          "height": 86
        }
      },
      "source": [
        "# Getting every other element of a list.\n",
        "print(nums[0:N:2])\n",
        "print(nums[1:N:2])\n",
        "print(nums[::2])\n",
        "print(nums[1::2])"
      ],
      "execution_count": null,
      "outputs": [
        {
          "output_type": "stream",
          "text": [
            "[1, 3, 5, 7, 9]\n",
            "[2, 4, 6, 8, 10]\n",
            "[1, 3, 5, 7, 9]\n",
            "[2, 4, 6, 8, 10]\n"
          ],
          "name": "stdout"
        }
      ]
    },
    {
      "cell_type": "code",
      "metadata": {
        "id": "AQaFPGhgQL5U",
        "outputId": "22d368a1-819a-4f4d-ea18-c3dec9ad723d",
        "colab": {
          "base_uri": "https://localhost:8080/",
          "height": 52
        }
      },
      "source": [
        "print(nums[2:8:3])\n",
        "print(nums[2:9:3])"
      ],
      "execution_count": null,
      "outputs": [
        {
          "output_type": "stream",
          "text": [
            "[3, 6]\n",
            "[3, 6, 9]\n"
          ],
          "name": "stdout"
        }
      ]
    },
    {
      "cell_type": "code",
      "metadata": {
        "id": "4VhLPBizQmY8",
        "outputId": "a4dda1bb-6579-464d-b55e-06d69a4766a6",
        "colab": {
          "base_uri": "https://localhost:8080/",
          "height": 34
        }
      },
      "source": [
        "# Reversing the elements of a list\n",
        "print(nums[::-1])"
      ],
      "execution_count": null,
      "outputs": [
        {
          "output_type": "stream",
          "text": [
            "[10, 9, 8, 7, 6, 5, 4, 3, 2, 1]\n"
          ],
          "name": "stdout"
        }
      ]
    },
    {
      "cell_type": "code",
      "metadata": {
        "id": "dCh1ohqMTTRo",
        "outputId": "cc4451f5-4e10-41fc-fd42-c700b03bdc28",
        "colab": {
          "base_uri": "https://localhost:8080/",
          "height": 52
        }
      },
      "source": [
        "print(nums[::-2])"
      ],
      "execution_count": null,
      "outputs": [
        {
          "output_type": "stream",
          "text": [
            "[10, 8, 6, 4, 2]\n",
            "[10, 8, 6, 4, 2]\n"
          ],
          "name": "stdout"
        }
      ]
    },
    {
      "cell_type": "code",
      "metadata": {
        "id": "u4RTyUiBkXK1"
      },
      "source": [
        "print(nums[::-1][::2])"
      ],
      "execution_count": null,
      "outputs": []
    },
    {
      "cell_type": "markdown",
      "metadata": {
        "id": "7Wq2s9npty9h"
      },
      "source": [
        "## Initializing a list with the same elements"
      ]
    },
    {
      "cell_type": "code",
      "metadata": {
        "id": "JO0I-pzFt3AL",
        "outputId": "6666c12e-e128-4d1f-a74f-dc10ce1986d5",
        "colab": {
          "base_uri": "https://localhost:8080/",
          "height": 34
        }
      },
      "source": [
        "l = [ 1 ] * 10\n",
        "print(l)"
      ],
      "execution_count": null,
      "outputs": [
        {
          "output_type": "stream",
          "text": [
            "[1, 1, 1, 1, 1, 1, 1, 1, 1, 1]\n"
          ],
          "name": "stdout"
        }
      ]
    },
    {
      "cell_type": "markdown",
      "metadata": {
        "id": "Dw4dDcw8uqDf"
      },
      "source": [
        "## Appending and inserting into a list"
      ]
    },
    {
      "cell_type": "code",
      "metadata": {
        "id": "UqOdHgZFuo1o",
        "outputId": "777efac6-d324-48c5-fe5c-13ce630fbac2",
        "colab": {
          "base_uri": "https://localhost:8080/",
          "height": 86
        }
      },
      "source": [
        "nums = [1]\n",
        "print(nums)\n",
        "nums.append(2)\n",
        "print(nums)\n",
        "nums.append(-10)\n",
        "print(nums)\n",
        "nums.insert(2, 5)\n",
        "print(nums)"
      ],
      "execution_count": null,
      "outputs": [
        {
          "output_type": "stream",
          "text": [
            "[1]\n",
            "[1, 2]\n",
            "[1, 2, -10]\n",
            "[1, 2, 5, -10]\n"
          ],
          "name": "stdout"
        }
      ]
    },
    {
      "cell_type": "code",
      "metadata": {
        "id": "Hw0UQeMOwnWk",
        "outputId": "5e6ae50a-fa2f-4aaa-cb13-63b497195bcc",
        "colab": {
          "base_uri": "https://localhost:8080/",
          "height": 34
        }
      },
      "source": [
        "# What if we want to add more numbers.\n",
        "nums1 = [1]\n",
        "nums2 = [4, 5, 10, -12, 14, 65]\n",
        "nums = nums1 + nums2\n",
        "print(nums)"
      ],
      "execution_count": null,
      "outputs": [
        {
          "output_type": "stream",
          "text": [
            "[1, 4, 5, 10, -12, 14, 65]\n"
          ],
          "name": "stdout"
        }
      ]
    },
    {
      "cell_type": "markdown",
      "metadata": {
        "id": "mdXI7s_YZ_Og"
      },
      "source": [
        "# String manipulation\n",
        "Strings are a list of characters (strings of length 1)."
      ]
    },
    {
      "cell_type": "code",
      "metadata": {
        "id": "HTl4VH3QxC3W",
        "outputId": "2bdbe61a-aa99-4829-b1ec-d2ec9484d7bb",
        "colab": {
          "base_uri": "https://localhost:8080/",
          "height": 69
        }
      },
      "source": [
        "str = \"Hello world\"\n",
        "print(len(str))\n",
        "print(str[0], str[3], str[-1])"
      ],
      "execution_count": null,
      "outputs": [
        {
          "output_type": "stream",
          "text": [
            "11\n",
            "H l d\n"
          ],
          "name": "stdout"
        },
        {
          "output_type": "execute_result",
          "data": {
            "text/plain": [
              "['H', 'e', 'l', 'l', 'o', ' ', 'w', 'o', 'r', 'l', 'd']"
            ]
          },
          "metadata": {
            "tags": []
          },
          "execution_count": 41
        }
      ]
    },
    {
      "cell_type": "code",
      "metadata": {
        "id": "kTsCyOSmxqlq",
        "outputId": "816d53d4-909f-43d1-87ef-27a003cf108a",
        "colab": {
          "base_uri": "https://localhost:8080/",
          "height": 34
        }
      },
      "source": [
        "# Getting a substring\n",
        "print(str[3:8])"
      ],
      "execution_count": null,
      "outputs": [
        {
          "output_type": "stream",
          "text": [
            "lo wo\n"
          ],
          "name": "stdout"
        }
      ]
    },
    {
      "cell_type": "markdown",
      "metadata": {
        "id": "m_BcHq-RzobY"
      },
      "source": [
        "## Joining strings\n",
        "1.   '+' can be used to join two strings.\n",
        "2.   The join method can be used on a string to join several string together.\n",
        "\n"
      ]
    },
    {
      "cell_type": "code",
      "metadata": {
        "id": "hMApAxElzr3B",
        "outputId": "48a2af50-d676-44ce-d4ee-dfd07345321d",
        "colab": {
          "base_uri": "https://localhost:8080/",
          "height": 52
        }
      },
      "source": [
        "# Join two strings with +\n",
        "s1, s2 = \"Hello\", \"world\"\n",
        "s3 = s1 + s2\n",
        "print(f\"String: {s3} [Lenght: {len(s3)}]\")\n",
        "\n",
        "# We can add a space between them with an extra\n",
        "# addtion operation\n",
        "s4 = s1 + \" \" + s2\n",
        "print(f\"String: {s4} [Lenght: {len(s4)}]\")"
      ],
      "execution_count": null,
      "outputs": [
        {
          "output_type": "stream",
          "text": [
            "String: Helloworld [Lenght: 10]\n",
            "String: Hello world [Lenght: 11]\n"
          ],
          "name": "stdout"
        }
      ]
    },
    {
      "cell_type": "code",
      "metadata": {
        "id": "K5OXzguT3Aud",
        "outputId": "a7df21bf-bceb-4644-bfa7-7357d7e28483",
        "colab": {
          "base_uri": "https://localhost:8080/",
          "height": 86
        }
      },
      "source": [
        "# Using the join method.\n",
        "s5 = \"\".join((s1, s2))\n",
        "s6 = \" \".join((s1, s2))\n",
        "print(f\"String: {s5} [Lenght: {len(s5)}]\")\n",
        "print(f\"String: {s6} [Lenght: {len(s6)}]\")\n",
        "\n",
        "# We can joint more than two strings.\n",
        "strs = [\"Its\", \"a\", \"beautiful\", \"day\"]\n",
        "s7 = strs[0] + \" \" + strs[1] + \" \" + strs[2] + \" \" + strs[3]\n",
        "print(f\"String: {s7} [Lenght: {len(s7)}]\")\n",
        "s8 = \" \".join(strs)\n",
        "print(f\"String: {s8} [Lenght: {len(s8)}]\")"
      ],
      "execution_count": null,
      "outputs": [
        {
          "output_type": "stream",
          "text": [
            "String: Helloworld [Lenght: 10]\n",
            "String: Hello world [Lenght: 11]\n",
            "String: Its a beautiful day [Lenght: 19]\n",
            "String: Its a beautiful day [Lenght: 19]\n"
          ],
          "name": "stdout"
        }
      ]
    },
    {
      "cell_type": "markdown",
      "metadata": {
        "id": "XNgoDDLA6jRG"
      },
      "source": [
        "## Splitting strings\n",
        "A string can be split into individual sub-strings using the function split()."
      ]
    },
    {
      "cell_type": "code",
      "metadata": {
        "id": "NXGxPIzv6lRA",
        "outputId": "1ac8fa77-df61-4ade-d203-1405a79f8fba",
        "colab": {
          "base_uri": "https://localhost:8080/",
          "height": 34
        }
      },
      "source": [
        "str = \"Its a beautiful day.\"\n",
        "strs = str.split(\" \")\n",
        "print(strs)"
      ],
      "execution_count": null,
      "outputs": [
        {
          "output_type": "stream",
          "text": [
            "['Its', 'a', 'beautiful', 'day.']\n"
          ],
          "name": "stdout"
        }
      ]
    },
    {
      "cell_type": "code",
      "metadata": {
        "id": "lau7uTYO69ti",
        "outputId": "ae11c4b2-0c13-49fe-ef7d-eb8742949879",
        "colab": {
          "base_uri": "https://localhost:8080/",
          "height": 52
        }
      },
      "source": [
        "str = \"Its    a    beautiful                 day         .\"\n",
        "print(str.split(\" \"))\n",
        "print(str.split())"
      ],
      "execution_count": null,
      "outputs": [
        {
          "output_type": "stream",
          "text": [
            "['Its', '', '', '', 'a', '', '', '', 'beautiful', '', '', '', '', '', '', '', '', '', '', '', '', '', '', '', '', 'day', '', '', '', '', '', '', '', '', '.']\n",
            "['Its', 'a', 'beautiful', 'day', '.']\n"
          ],
          "name": "stdout"
        }
      ]
    },
    {
      "cell_type": "code",
      "metadata": {
        "id": "_dnW1l3o9Upr",
        "outputId": "61a206e4-5bab-4303-8eae-510a58a38fb6",
        "colab": {
          "base_uri": "https://localhost:8080/",
          "height": 34
        }
      },
      "source": [
        "str = \"Its a beautiful day.\"\n",
        "print(str.split(\"a\"))"
      ],
      "execution_count": null,
      "outputs": [
        {
          "output_type": "stream",
          "text": [
            "['Its ', ' be', 'utiful d', 'y.']\n"
          ],
          "name": "stdout"
        }
      ]
    },
    {
      "cell_type": "markdown",
      "metadata": {
        "id": "80JgQS3i-A7q"
      },
      "source": [
        "### How can your remove the extra white space in the string \"Its    a    beautiful                 day         .\"? _Hint: Use join()_"
      ]
    },
    {
      "cell_type": "code",
      "metadata": {
        "id": "mox3jcKr-PEu"
      },
      "source": [
        "str = \"Its    a    beautiful                 day         .\""
      ],
      "execution_count": null,
      "outputs": []
    },
    {
      "cell_type": "markdown",
      "metadata": {
        "id": "NP1ArBGSGyn0"
      },
      "source": [
        "# Conditional statements\n",
        "For writing code that executes only under certain conditions."
      ]
    },
    {
      "cell_type": "markdown",
      "metadata": {
        "id": "73RIjyTF_1vK"
      },
      "source": [
        "### If-else"
      ]
    },
    {
      "cell_type": "code",
      "metadata": {
        "id": "1eHw7hu5_pXf",
        "outputId": "1517eb6a-d244-4699-8381-b2f82ad46948",
        "colab": {
          "base_uri": "https://localhost:8080/",
          "height": 34
        }
      },
      "source": [
        "x = 3\n",
        "if x == 2:\n",
        "  print(\"x is 2.\")\n",
        "print(\"Done.\")"
      ],
      "execution_count": null,
      "outputs": [
        {
          "output_type": "stream",
          "text": [
            "Done.\n"
          ],
          "name": "stdout"
        }
      ]
    },
    {
      "cell_type": "code",
      "metadata": {
        "id": "STxYjLiqAGmW",
        "outputId": "d491db38-985d-46d8-8697-43cab2b205e4",
        "colab": {
          "base_uri": "https://localhost:8080/",
          "height": 52
        }
      },
      "source": [
        "x = 2\n",
        "if x == 2:\n",
        "  print(\"x is 2.\")\n",
        "else:\n",
        "  print(\"x is not 2.\")\n",
        "print(\"Done.\")"
      ],
      "execution_count": null,
      "outputs": [
        {
          "output_type": "stream",
          "text": [
            "x is 2.\n",
            "Done\n"
          ],
          "name": "stdout"
        }
      ]
    },
    {
      "cell_type": "markdown",
      "metadata": {
        "id": "PbMoM2Wg6nPN"
      },
      "source": [
        "## If-elif-else"
      ]
    },
    {
      "cell_type": "code",
      "metadata": {
        "id": "AlC_OhRh6quy",
        "outputId": "df4ae0e0-cbe4-4fc3-85f6-977fc2a53437",
        "colab": {
          "base_uri": "https://localhost:8080/",
          "height": 52
        }
      },
      "source": [
        "x = 2\n",
        "if x == 1:\n",
        "  print(\"x is 1.\")\n",
        "elif x == 2:\n",
        "  print(\"x is 1.\")\n",
        "else:\n",
        "  print(\"x is not 1 or 2.\")\n",
        "print(\"Done.\")"
      ],
      "execution_count": null,
      "outputs": [
        {
          "output_type": "stream",
          "text": [
            "x is 1.\n",
            "Done.\n"
          ],
          "name": "stdout"
        }
      ]
    },
    {
      "cell_type": "markdown",
      "metadata": {
        "id": "2lS7_bL37sr6"
      },
      "source": [
        "## Combining logical statements: **and, or**\n",
        "\n"
      ]
    },
    {
      "cell_type": "code",
      "metadata": {
        "id": "7vNW0HVv7xLE",
        "outputId": "e8954595-a94d-4040-be1d-d9a73e2b3c69",
        "colab": {
          "base_uri": "https://localhost:8080/",
          "height": 34
        }
      },
      "source": [
        "# Check if two conditions are satisfied.\n",
        "x, y = 2, 5\n",
        "\n",
        "# Print which of these two numbers are even/odd\n",
        "if x % 2 == 0 and y % 2 == 0:\n",
        "  print(f\"Both x={x} and y={y} are even.\")\n",
        "elif x % 2 == 1 and y % 2 == 0:\n",
        "  print(f\"x={x} is odd and y={y} is even.\")\n",
        "elif x % 2 == 0 and y % 2 == 1:\n",
        "  print(f\"x={x} is even and y={y} is odd.\")\n",
        "else:\n",
        "  print(f\"Both x={x} and y={y} are odd.\")"
      ],
      "execution_count": null,
      "outputs": [
        {
          "output_type": "stream",
          "text": [
            "x=2 is even and y=5 is odd.\n"
          ],
          "name": "stdout"
        }
      ]
    },
    {
      "cell_type": "markdown",
      "metadata": {
        "id": "f-_cV6vY_Wr3"
      },
      "source": [
        "## Complementing a logical statement"
      ]
    },
    {
      "cell_type": "code",
      "metadata": {
        "id": "IW9g2jMU_aI4",
        "outputId": "3415c6c0-6504-4e33-ddd7-bd8df39b988b",
        "colab": {
          "base_uri": "https://localhost:8080/",
          "height": 52
        }
      },
      "source": [
        "x = 3\n",
        "\n",
        "if x % 2 == 0:\n",
        "  print(f\"x={x} is even.\")\n",
        "else:\n",
        "  print(f\"x={x} is odd.\")\n",
        "\n",
        "if not x % 2 == 1:\n",
        "  print(f\"x={x} is even.\")\n",
        "else:\n",
        "  print(f\"x={x} is odd.\")"
      ],
      "execution_count": null,
      "outputs": [
        {
          "output_type": "stream",
          "text": [
            "x=3 is odd.\n",
            "x=3 is odd.\n"
          ],
          "name": "stdout"
        }
      ]
    },
    {
      "cell_type": "markdown",
      "metadata": {
        "id": "5Ha5AE2BGyZu"
      },
      "source": [
        "# Looping statement\n",
        "Doing things repeatedly."
      ]
    },
    {
      "cell_type": "markdown",
      "metadata": {
        "id": "8srU6Q9AjmBX"
      },
      "source": [
        "## For loop\n",
        "To do something a fixed number of times."
      ]
    },
    {
      "cell_type": "code",
      "metadata": {
        "id": "HO59dOv0jiqz",
        "outputId": "e33f2f85-040d-4750-c65d-037189cb8cff",
        "colab": {
          "base_uri": "https://localhost:8080/",
          "height": 104
        }
      },
      "source": [
        "nums = [1, 2, 3, 4, 5]\n",
        "\n",
        "# Print the contents of the list one after the other.\n",
        "for n in nums:\n",
        "  print(n)"
      ],
      "execution_count": null,
      "outputs": [
        {
          "output_type": "stream",
          "text": [
            "1\n",
            "2\n",
            "3\n",
            "4\n",
            "5\n"
          ],
          "name": "stdout"
        }
      ]
    },
    {
      "cell_type": "code",
      "metadata": {
        "id": "u3t-lt8NqLyJ",
        "outputId": "61d96a09-5004-4bbe-d087-2fdfe8e8dbbf",
        "colab": {
          "base_uri": "https://localhost:8080/",
          "height": 191
        }
      },
      "source": [
        "# Print the first 10 non-zero integers.\n",
        "# range() functions helps with this.\n",
        "for i in range(10):\n",
        "  print(i)"
      ],
      "execution_count": null,
      "outputs": [
        {
          "output_type": "stream",
          "text": [
            "0\n",
            "1\n",
            "2\n",
            "3\n",
            "4\n",
            "5\n",
            "6\n",
            "7\n",
            "8\n",
            "9\n"
          ],
          "name": "stdout"
        }
      ]
    },
    {
      "cell_type": "code",
      "metadata": {
        "id": "ZA7avpjlslEV",
        "outputId": "a39569aa-c41f-473b-c51d-07e33d7a7b48",
        "colab": {
          "base_uri": "https://localhost:8080/",
          "height": 104
        }
      },
      "source": [
        "# We can also use range to access the elements of an array.\n",
        "for i in range(len(nums)):\n",
        "  print(f\"nums[{i}] = {nums[i]}\")"
      ],
      "execution_count": null,
      "outputs": [
        {
          "output_type": "stream",
          "text": [
            "nums[0] = 1\n",
            "nums[1] = 2\n",
            "nums[2] = 3\n",
            "nums[3] = 4\n",
            "nums[4] = 5\n"
          ],
          "name": "stdout"
        }
      ]
    },
    {
      "cell_type": "code",
      "metadata": {
        "id": "cbOHY1L-tQ__",
        "outputId": "94b60617-ef8d-462d-cd04-4df305117330",
        "colab": {
          "base_uri": "https://localhost:8080/",
          "height": 104
        }
      },
      "source": [
        "# enumerate() functions makes this a little easier.\n",
        "for i, n in enumerate(nums):\n",
        "  print(f\"nums[{i}] = {n}\")"
      ],
      "execution_count": null,
      "outputs": [
        {
          "output_type": "stream",
          "text": [
            "nums[0] = 1\n",
            "nums[1] = 2\n",
            "nums[2] = 3\n",
            "nums[3] = 4\n",
            "nums[4] = 5\n"
          ],
          "name": "stdout"
        }
      ]
    },
    {
      "cell_type": "code",
      "metadata": {
        "id": "MRJuvh3vujgo",
        "outputId": "d7a80832-fc64-4c22-d1c6-08420f08e688",
        "colab": {
          "base_uri": "https://localhost:8080/",
          "height": 52
        }
      },
      "source": [
        "nums = [1, 3 , 5, 10, -12]\n",
        "\n",
        "# We want to create the another list whose elements are the squares\n",
        "# of the elements of nums.\n",
        "nums2 = []\n",
        "for n in nums:\n",
        "  nums2.append(n ** 2)\n",
        "print(nums)\n",
        "print(nums2)"
      ],
      "execution_count": null,
      "outputs": [
        {
          "output_type": "stream",
          "text": [
            "[1, 3, 5, 10, -12]\n",
            "[1, 9, 25, 100, 144]\n"
          ],
          "name": "stdout"
        }
      ]
    },
    {
      "cell_type": "code",
      "metadata": {
        "id": "7IivNbKkzEPG",
        "outputId": "e60d0d45-5a55-4020-d922-9a23178dd2ed",
        "colab": {
          "base_uri": "https://localhost:8080/",
          "height": 34
        }
      },
      "source": [
        "# There are several ways to do this.\n",
        "nums3 = [ 0 ] * len(nums)\n",
        "for i, n in enumerate(nums):\n",
        "  nums3[i] = n ** 2\n",
        "print(nums3)"
      ],
      "execution_count": null,
      "outputs": [
        {
          "output_type": "stream",
          "text": [
            "[1, 9, 25, 100, 144]\n"
          ],
          "name": "stdout"
        }
      ]
    },
    {
      "cell_type": "markdown",
      "metadata": {
        "id": "2AczthC60ZqL"
      },
      "source": [
        "### List comprehension.\n",
        "Pythonic way of defining and creating new lists."
      ]
    },
    {
      "cell_type": "code",
      "metadata": {
        "id": "QY42SyLwzial",
        "outputId": "feea96b7-0dcf-4a26-a425-b2074a3dd3f8",
        "colab": {
          "base_uri": "https://localhost:8080/",
          "height": 34
        }
      },
      "source": [
        "nums4 = [n**2 for n in nums]\n",
        "print(nums4)"
      ],
      "execution_count": null,
      "outputs": [
        {
          "output_type": "stream",
          "text": [
            "[1, 9, 25, 100, 144]\n"
          ],
          "name": "stdout"
        }
      ]
    },
    {
      "cell_type": "markdown",
      "metadata": {
        "id": "jfc2iAy70p7K"
      },
      "source": [
        "## While loop\n",
        "Do somthing until some condtion is satisfied."
      ]
    },
    {
      "cell_type": "code",
      "metadata": {
        "id": "gsV47drY0n8q",
        "outputId": "2a11141f-209a-4bb2-c3d6-67acc9344036",
        "colab": {
          "base_uri": "https://localhost:8080/",
          "height": 104
        }
      },
      "source": [
        "# Print all non zero intgers whose cube is less than 100\n",
        "i = 0\n",
        "j = i ** 3\n",
        "while j < 100:\n",
        "  print(i)\n",
        "  i += 1\n",
        "  j = i ** 3"
      ],
      "execution_count": null,
      "outputs": [
        {
          "output_type": "stream",
          "text": [
            "0\n",
            "1\n",
            "2\n",
            "3\n",
            "4\n"
          ],
          "name": "stdout"
        }
      ]
    },
    {
      "cell_type": "code",
      "metadata": {
        "id": "nys30HNfIkft"
      },
      "source": [
        "# Find the number of characters in the following text before the first fullstop.\n",
        "txt = \"\"\"Lorem Ipsum is simply dummy text of the printing and typesetting\n",
        "industry. Lorem Ipsum has been the industry's standard dummy text ever since\n",
        "the 1500s, when an unknown printer took a galley of type and scrambled it to\n",
        "make a type specimen book. It has survived not only five centuries, but also\n",
        "the leap into electronic typesetting, remaining essentially unchanged. It was\n",
        "popularised in the 1960s with the release of Letraset sheets containing Lorem\n",
        "Ipsum passages, and more recently with desktop publishing software like Aldus\n",
        "PageMaker including versions of Lorem Ipsum.\"\"\""
      ],
      "execution_count": null,
      "outputs": []
    },
    {
      "cell_type": "code",
      "metadata": {
        "id": "QpjvQ_puJwBm",
        "outputId": "e4ccc93f-dd61-487a-be18-3e781a5a8e16",
        "colab": {
          "base_uri": "https://localhost:8080/",
          "height": 34
        }
      },
      "source": [
        "i = 0\n",
        "cnt = 0\n",
        "while txt[i] != \".\":\n",
        "  cnt += 1\n",
        "  i += 1\n",
        "print(cnt)"
      ],
      "execution_count": null,
      "outputs": [
        {
          "output_type": "stream",
          "text": [
            "74\n"
          ],
          "name": "stdout"
        }
      ]
    },
    {
      "cell_type": "markdown",
      "metadata": {
        "id": "_yMPbemrQaHn"
      },
      "source": [
        "### Write a function that returns the number of 'a's in the given text before the 3rd fullstop."
      ]
    },
    {
      "cell_type": "markdown",
      "metadata": {
        "id": "kyEo1t3LNvzD"
      },
      "source": [
        "## Break out of a loop"
      ]
    },
    {
      "cell_type": "code",
      "metadata": {
        "id": "fgS-p23lNyUO",
        "outputId": "990d65ba-2cfe-4403-b500-8cf5802f1b47",
        "colab": {
          "base_uri": "https://localhost:8080/",
          "height": 34
        }
      },
      "source": [
        "i = 0\n",
        "cnt = 0\n",
        "while True:\n",
        "  if txt[i] != \".\":\n",
        "    cnt += 1\n",
        "    i += 1\n",
        "  else:\n",
        "    break\n",
        "print(cnt)"
      ],
      "execution_count": null,
      "outputs": [
        {
          "output_type": "stream",
          "text": [
            "74\n"
          ],
          "name": "stdout"
        }
      ]
    },
    {
      "cell_type": "markdown",
      "metadata": {
        "id": "Tdxi347uGyF-"
      },
      "source": [
        "# Modules\n",
        "A way of organizing python code so that it can be re-used. The orgnaization is usually logical in nature, where similar code is grouped together into a module."
      ]
    },
    {
      "cell_type": "markdown",
      "metadata": {
        "id": "YK6ZKAWrHDki"
      },
      "source": [
        "# numpy arrays"
      ]
    },
    {
      "cell_type": "code",
      "metadata": {
        "id": "0AlZRbfmLgoB"
      },
      "source": [
        "import numpy as np"
      ],
      "execution_count": null,
      "outputs": []
    },
    {
      "cell_type": "code",
      "metadata": {
        "id": "HwNL95m-KN9z",
        "outputId": "051bfe9e-d0e6-4f27-d5d1-5d65757338aa",
        "colab": {
          "base_uri": "https://localhost:8080/",
          "height": 34
        }
      },
      "source": [
        "np.pi"
      ],
      "execution_count": null,
      "outputs": [
        {
          "output_type": "execute_result",
          "data": {
            "text/plain": [
              "3.141592653589793"
            ]
          },
          "metadata": {
            "tags": []
          },
          "execution_count": 3
        }
      ]
    },
    {
      "cell_type": "markdown",
      "metadata": {
        "id": "1j0AGQ9YLqU6"
      },
      "source": [
        "## numpy array\n",
        "Objects for holding a grid of values (numbers) of the same type."
      ]
    },
    {
      "cell_type": "markdown",
      "metadata": {
        "id": "mDgUibbFMo0Q"
      },
      "source": [
        "### Find the sum of the elements of two lists.\n",
        "$$ \\mathbf{x} = [x_1, \\, x_2, \\ldots x_n] \\quad \\text{and} \\quad \\mathbf{y} = [y_1, \\, y_2, \\ldots y_n] $$\n",
        "$$ \\mathbf{z} = [x_1 + y_1, \\, x_2 + y_2, \\ldots x_n + y_n] *italicized text*$$"
      ]
    },
    {
      "cell_type": "code",
      "metadata": {
        "id": "lRWPIJZvKXEr",
        "outputId": "ddcabef2-5efc-4b0b-fc62-4dee1387203e",
        "colab": {
          "base_uri": "https://localhost:8080/",
          "height": 69
        }
      },
      "source": [
        "# Can we not do this with lists? Why another object?\n",
        "x = [1, 2, 3]\n",
        "y = [4, 5, 6]\n",
        "\n",
        "# How can we add the elements of these two lists?\n",
        "z = x + y\n",
        "print(x)\n",
        "print(y)\n",
        "print(z)"
      ],
      "execution_count": null,
      "outputs": [
        {
          "output_type": "stream",
          "text": [
            "[1, 2, 3]\n",
            "[4, 5, 6]\n",
            "[1, 2, 3, 4, 5, 6]\n"
          ],
          "name": "stdout"
        }
      ]
    },
    {
      "cell_type": "markdown",
      "metadata": {
        "id": "_mQH5BBrNMi1"
      },
      "source": [
        "### Write a function to compute the sum of the two lists x and y. When the sizes of the lists are not compatible, the function returns an empty list.\n",
        "Hint: looping and conditional statements"
      ]
    },
    {
      "cell_type": "code",
      "metadata": {
        "id": "BQwwdX8lMRTg"
      },
      "source": [],
      "execution_count": null,
      "outputs": []
    },
    {
      "cell_type": "markdown",
      "metadata": {
        "id": "mOno_BkkTsrQ"
      },
      "source": [
        "### Algebraic operation with numpy arrays"
      ]
    },
    {
      "cell_type": "code",
      "metadata": {
        "id": "e4AzKHIJaggp",
        "outputId": "ecdd42fb-8112-4cb5-b3e8-7b6f0ee076cd",
        "colab": {
          "base_uri": "https://localhost:8080/",
          "height": 52
        }
      },
      "source": [
        "x = np.array([1, 2, 3])\n",
        "print(x)\n",
        "print(x.dtype)"
      ],
      "execution_count": null,
      "outputs": [
        {
          "output_type": "stream",
          "text": [
            "[1 2 3]\n",
            "int64\n"
          ],
          "name": "stdout"
        }
      ]
    },
    {
      "cell_type": "code",
      "metadata": {
        "id": "qmBBEpeCa9yK",
        "outputId": "8a177f51-117b-463c-9b03-a750abe3df9c",
        "colab": {
          "base_uri": "https://localhost:8080/",
          "height": 52
        }
      },
      "source": [
        "x = np.array([1.0, 2, 3])\n",
        "print(x)\n",
        "print(x.dtype)"
      ],
      "execution_count": null,
      "outputs": [
        {
          "output_type": "stream",
          "text": [
            "[1. 2. 3.]\n",
            "float64\n"
          ],
          "name": "stdout"
        }
      ]
    },
    {
      "cell_type": "code",
      "metadata": {
        "id": "mM6ifZjIbfTT",
        "outputId": "dcc2bf1d-c209-491d-a6f0-3de23400d106",
        "colab": {
          "base_uri": "https://localhost:8080/",
          "height": 52
        }
      },
      "source": [
        "x = np.array([\"1\", \"2\", \"3\"])\n",
        "print(x)\n",
        "print(x.dtype)"
      ],
      "execution_count": null,
      "outputs": [
        {
          "output_type": "stream",
          "text": [
            "['1' '2' '3']\n",
            "<U1\n"
          ],
          "name": "stdout"
        }
      ]
    },
    {
      "cell_type": "code",
      "metadata": {
        "id": "Ag2LEt6vNqAL",
        "outputId": "d431bd28-0ce8-48f4-f223-1f7939294d45",
        "colab": {
          "base_uri": "https://localhost:8080/",
          "height": 69
        }
      },
      "source": [
        "# numpy array make this process a lot easier.\n",
        "x = np.array([1, 2, 3])\n",
        "y = np.array([4, 5, 6])\n",
        "\n",
        "print(x)\n",
        "print(y)\n",
        "z = x + y\n",
        "print(z)"
      ],
      "execution_count": null,
      "outputs": [
        {
          "output_type": "stream",
          "text": [
            "[1 2 3]\n",
            "[4 5 6]\n",
            "[5 7 9]\n"
          ],
          "name": "stdout"
        }
      ]
    },
    {
      "cell_type": "code",
      "metadata": {
        "id": "clRAGBTIN1Ku",
        "outputId": "c98d84ed-a101-4614-ea9a-041a5379b0ff",
        "colab": {
          "base_uri": "https://localhost:8080/",
          "height": 185
        }
      },
      "source": [
        "u = np.array([3, 2, -1, 4])\n",
        "z1 = x + u"
      ],
      "execution_count": null,
      "outputs": [
        {
          "output_type": "error",
          "ename": "ValueError",
          "evalue": "ignored",
          "traceback": [
            "\u001b[0;31m---------------------------------------------------------------------------\u001b[0m",
            "\u001b[0;31mValueError\u001b[0m                                Traceback (most recent call last)",
            "\u001b[0;32m<ipython-input-8-e15203bd838f>\u001b[0m in \u001b[0;36m<module>\u001b[0;34m()\u001b[0m\n\u001b[1;32m      1\u001b[0m \u001b[0mu\u001b[0m \u001b[0;34m=\u001b[0m \u001b[0mnp\u001b[0m\u001b[0;34m.\u001b[0m\u001b[0marray\u001b[0m\u001b[0;34m(\u001b[0m\u001b[0;34m[\u001b[0m\u001b[0;36m3\u001b[0m\u001b[0;34m,\u001b[0m \u001b[0;36m2\u001b[0m\u001b[0;34m,\u001b[0m \u001b[0;34m-\u001b[0m\u001b[0;36m1\u001b[0m\u001b[0;34m,\u001b[0m \u001b[0;36m4\u001b[0m\u001b[0;34m]\u001b[0m\u001b[0;34m)\u001b[0m\u001b[0;34m\u001b[0m\u001b[0;34m\u001b[0m\u001b[0m\n\u001b[0;32m----> 2\u001b[0;31m \u001b[0mz1\u001b[0m \u001b[0;34m=\u001b[0m \u001b[0mx\u001b[0m \u001b[0;34m+\u001b[0m \u001b[0mu\u001b[0m\u001b[0;34m\u001b[0m\u001b[0;34m\u001b[0m\u001b[0m\n\u001b[0m",
            "\u001b[0;31mValueError\u001b[0m: operands could not be broadcast together with shapes (3,) (4,) "
          ]
        }
      ]
    },
    {
      "cell_type": "code",
      "metadata": {
        "id": "2VZinpoFR9Sg",
        "outputId": "8ba7ecfa-23b0-4e8a-f012-9b1a08f289ea",
        "colab": {
          "base_uri": "https://localhost:8080/",
          "height": 52
        }
      },
      "source": [
        "# We can create an array from an existing list\n",
        "v = [1, 2, 3, 4]\n",
        "w = np.array(v)\n",
        "print(v)\n",
        "print(w)"
      ],
      "execution_count": null,
      "outputs": [
        {
          "output_type": "stream",
          "text": [
            "[1, 2, 3, 4]\n",
            "[1 2 3 4]\n"
          ],
          "name": "stdout"
        }
      ]
    },
    {
      "cell_type": "code",
      "metadata": {
        "id": "flzOTlXZTaY7",
        "outputId": "9af3ef34-243f-4490-a267-5f1fa54033bf",
        "colab": {
          "base_uri": "https://localhost:8080/",
          "height": 139
        }
      },
      "source": [
        "# Various algebrain opetations can be carried out with numpy array easily.\n",
        "x = np.array([1, 2, 3, 4])\n",
        "y = np.array([5, 6, 7, 8])\n",
        "\n",
        "print(\"x + 1 :\", x + 1)\n",
        "print(\"2 * x :\", 2 * x)\n",
        "print(\"x / 2 :\", x / 2)\n",
        "print(\"1 / x :\", 1 / x)\n",
        "print(\"x - y :\", x - y)\n",
        "print(\"x * y :\", x * y)\n",
        "print(\"x / y :\", x / y)"
      ],
      "execution_count": null,
      "outputs": [
        {
          "output_type": "stream",
          "text": [
            "x + 1 : [2 3 4 5]\n",
            "2 * x : [2 4 6 8]\n",
            "x / 2 : [0.5 1.  1.5 2. ]\n",
            "1 / x : [1.         0.5        0.33333333 0.25      ]\n",
            "x - y : [-4 -4 -4 -4]\n",
            "x * y : [ 5 12 21 32]\n",
            "x / y : [0.2        0.33333333 0.42857143 0.5       ]\n"
          ],
          "name": "stdout"
        }
      ]
    },
    {
      "cell_type": "code",
      "metadata": {
        "id": "9aQ9RuHpURLO",
        "outputId": "402fbd5c-e4e5-4a37-c4f9-deb23c3d201b",
        "colab": {
          "base_uri": "https://localhost:8080/",
          "height": 69
        }
      },
      "source": [
        "# Length/shape of a numpy array\n",
        "x = np.array([1, 2, 3])\n",
        "print(len(x))\n",
        "print(np.shape(x))\n",
        "print(x.shape)"
      ],
      "execution_count": null,
      "outputs": [
        {
          "output_type": "stream",
          "text": [
            "3\n",
            "(3,)\n",
            "(3,)\n"
          ],
          "name": "stdout"
        }
      ]
    },
    {
      "cell_type": "code",
      "metadata": {
        "id": "q0U8m5PYT7NP",
        "outputId": "2bc88dff-c30c-42c2-ae1d-c2aa931308e4",
        "colab": {
          "base_uri": "https://localhost:8080/",
          "height": 86
        }
      },
      "source": [
        "# Two dimensional array of numbers\n",
        "x = np.array([[1, 2, 3],\n",
        "              [4, 5, 6]])\n",
        "print(x)\n",
        "print(len(x))\n",
        "print(x.shape)"
      ],
      "execution_count": null,
      "outputs": [
        {
          "output_type": "stream",
          "text": [
            "[[1 2 3]\n",
            " [4 5 6]]\n",
            "2\n",
            "(2, 3)\n"
          ],
          "name": "stdout"
        }
      ]
    },
    {
      "cell_type": "code",
      "metadata": {
        "id": "Rp_vFUcqUrAD",
        "outputId": "076c676c-a1cd-423e-9ad2-55e1d92ef051",
        "colab": {
          "base_uri": "https://localhost:8080/",
          "height": 69
        }
      },
      "source": [
        "# We can also create multi-dimensional array from existing list of lists.\n",
        "y = [[-1, -2, -3], [-4, -5, -6]]\n",
        "print(y)\n",
        "print(np.array(y))"
      ],
      "execution_count": null,
      "outputs": [
        {
          "output_type": "stream",
          "text": [
            "[[-1, -2, -3], [-4, -5, -6]]\n",
            "[[-1 -2 -3]\n",
            " [-4 -5 -6]]\n"
          ],
          "name": "stdout"
        }
      ]
    },
    {
      "cell_type": "code",
      "metadata": {
        "id": "scYpKyxqbPc5",
        "outputId": "c5b1eadd-c8e4-4118-ccb4-d41e26fc4555",
        "colab": {
          "base_uri": "https://localhost:8080/",
          "height": 69
        }
      },
      "source": [
        "# When the individual lists are not of the same size.\n",
        "z = [[-1, -2, -3], [-4, -5]]\n",
        "z1 = np.array(z)\n",
        "print(z)\n",
        "print(z1)\n",
        "print(z1.dtype)"
      ],
      "execution_count": null,
      "outputs": [
        {
          "output_type": "stream",
          "text": [
            "[[-1, -2, -3], [-4, -5]]\n",
            "[list([-1, -2, -3]) list([-4, -5])]\n",
            "object\n"
          ],
          "name": "stdout"
        }
      ]
    },
    {
      "cell_type": "markdown",
      "metadata": {
        "id": "mGFaEXDlkR_q"
      },
      "source": [
        "## Other useful numpy functions"
      ]
    },
    {
      "cell_type": "code",
      "metadata": {
        "id": "pp116jWPkRJ7",
        "outputId": "e5ffa5aa-de3b-41b4-a21d-17d81504fbb2",
        "colab": {
          "base_uri": "https://localhost:8080/",
          "height": 104
        }
      },
      "source": [
        "x = np.array([1, 2, 3, 4, 5, 6, 7, 8, 9, 10])\n",
        "\n",
        "# Sum of the elements\n",
        "print(np.sum(x))\n",
        "print(np.prod(x))\n",
        "print(np.sqrt(x))\n",
        "print(np.power(x, 2))"
      ],
      "execution_count": null,
      "outputs": [
        {
          "output_type": "stream",
          "text": [
            "55\n",
            "3628800\n",
            "[1.         1.41421356 1.73205081 2.         2.23606798 2.44948974\n",
            " 2.64575131 2.82842712 3.         3.16227766]\n",
            "[  1   4   9  16  25  36  49  64  81 100]\n"
          ],
          "name": "stdout"
        }
      ]
    },
    {
      "cell_type": "markdown",
      "metadata": {
        "id": "L7BWtHJEl1eq"
      },
      "source": [
        "### Trignometric functions\n",
        "![alt text](https://www.onlinemathlearning.com/image-files/unit-circle-sin-cos-tan.png)\n",
        "\n",
        "The angle $\\theta$ is in radian, where the conversion from degrees to radians is as follows,\n",
        "\n",
        "$$ \\theta_{rad} = \\frac{\\pi}{180} \\theta_{deg}$$\n"
      ]
    },
    {
      "cell_type": "code",
      "metadata": {
        "id": "mLVRPdjIbQxD",
        "outputId": "13cb8eed-177e-4a61-e317-222c84f563ac",
        "colab": {
          "base_uri": "https://localhost:8080/",
          "height": 69
        }
      },
      "source": [
        "# sin and cos functions.\n",
        "t_deg = 30\n",
        "t_rad = t_deg * np.pi / 180.\n",
        "print(f\"theta = {t_deg}deg\")\n",
        "print(f\"sin(theta) = {np.sin(t_rad)}\")\n",
        "print(f\"cos(theta) = {np.cos(t_rad)}\")"
      ],
      "execution_count": null,
      "outputs": [
        {
          "output_type": "stream",
          "text": [
            "theta = 30deg\n",
            "sin(theta) = 0.49999999999999994\n",
            "cos(theta) = 0.8660254037844387\n"
          ],
          "name": "stdout"
        }
      ]
    },
    {
      "cell_type": "markdown",
      "metadata": {
        "id": "gY5N8Fi8nl-B"
      },
      "source": [
        "## Plotting with matplotlib"
      ]
    },
    {
      "cell_type": "code",
      "metadata": {
        "id": "W-HRdzLGnoDK"
      },
      "source": [
        "import matplotlib as mpl\n",
        "import matplotlib.pyplot as plt"
      ],
      "execution_count": null,
      "outputs": []
    },
    {
      "cell_type": "code",
      "metadata": {
        "id": "1S64v2bBnrvX",
        "outputId": "acb06e65-e327-45b2-f5e1-1716b9325db2",
        "colab": {
          "base_uri": "https://localhost:8080/",
          "height": 282
        }
      },
      "source": [
        "# list and array can be ploted as graphs.\n",
        "x = range(10)\n",
        "y = np.power(x, 2)\n",
        "plt.plot(x)\n",
        "plt.plot(y)"
      ],
      "execution_count": null,
      "outputs": [
        {
          "output_type": "execute_result",
          "data": {
            "text/plain": [
              "[<matplotlib.lines.Line2D at 0x7f9f478f9358>]"
            ]
          },
          "metadata": {
            "tags": []
          },
          "execution_count": 94
        },
        {
          "output_type": "display_data",
          "data": {
            "image/png": "[encoded data removed]",
            "text/plain": [
              "<Figure size 432x288 with 1 Axes>"
            ]
          },
          "metadata": {
            "tags": []
          }
        }
      ]
    },
    {
      "cell_type": "code",
      "metadata": {
        "id": "z1tXSr8BpHCx",
        "outputId": "fe5aa69b-d9d2-4316-85a5-9bf71aa8ea5a",
        "colab": {
          "base_uri": "https://localhost:8080/",
          "height": 312
        }
      },
      "source": [
        "# Another function to generate a list of numbers.\n",
        "x = np.arange(0, 10, 0.1)\n",
        "y = np.power(x, 2)\n",
        "plt.plot(x, y)\n",
        "plt.xlabel(\"x\")\n",
        "plt.ylabel(\"y = x ** 2\")\n",
        "plt.title(\"y = f(x) = x ** 2\")"
      ],
      "execution_count": null,
      "outputs": [
        {
          "output_type": "execute_result",
          "data": {
            "text/plain": [
              "Text(0.5, 1.0, 'y = f(x) = x ** 2')"
            ]
          },
          "metadata": {
            "tags": []
          },
          "execution_count": 95
        },
        {
          "output_type": "display_data",
          "data": {
            "image/png": "[encoded data removed]",
            "text/plain": [
              "<Figure size 432x288 with 1 Axes>"
            ]
          },
          "metadata": {
            "tags": []
          }
        }
      ]
    },
    {
      "cell_type": "code",
      "metadata": {
        "id": "rt4KtwOkp_Md",
        "outputId": "4ff9632f-5fd6-48ab-c4cb-4a7bac0ad3f3",
        "colab": {
          "base_uri": "https://localhost:8080/",
          "height": 282
        }
      },
      "source": [
        "# Plot sine and cosine function for theta values from -2*pi to 2*pi.\n",
        "t = np.arange(-2 * np.pi, 2 * np.pi)\n",
        "plt.plot(t, np.sin(t), label=\"sine\")\n",
        "plt.plot(t, np.cos(t), label=\"cosine\")\n",
        "plt.legend()"
      ],
      "execution_count": null,
      "outputs": [
        {
          "output_type": "execute_result",
          "data": {
            "text/plain": [
              "<matplotlib.legend.Legend at 0x7f9f477f6278>"
            ]
          },
          "metadata": {
            "tags": []
          },
          "execution_count": 96
        },
        {
          "output_type": "display_data",
          "data": {
            "image/png": "[encoded data removed]",
            "text/plain": [
              "<Figure size 432x288 with 1 Axes>"
            ]
          },
          "metadata": {
            "tags": []
          }
        }
      ]
    },
    {
      "cell_type": "code",
      "metadata": {
        "id": "5MuG5ddOrEs_",
        "colab": {
          "base_uri": "https://localhost:8080/",
          "height": 282
        },
        "outputId": "51ec4acc-0645-4bae-febc-6e6d117db061"
      },
      "source": [
        "t = np.arange(-2 * np.pi, 2 * np.pi, 0.1)\n",
        "plt.plot(t, np.sin(t), label=\"sine\")\n",
        "plt.plot(t, np.cos(t), label=\"cosine\")\n",
        "plt.legend()"
      ],
      "execution_count": null,
      "outputs": [
        {
          "output_type": "execute_result",
          "data": {
            "text/plain": [
              "<matplotlib.legend.Legend at 0x7f9f47801470>"
            ]
          },
          "metadata": {
            "tags": []
          },
          "execution_count": 97
        },
        {
          "output_type": "display_data",
          "data": {
            "image/png": "[encoded data removed]",
            "text/plain": [
              "<Figure size 432x288 with 1 Axes>"
            ]
          },
          "metadata": {
            "tags": []
          }
        }
      ]
    },
    {
      "cell_type": "code",
      "metadata": {
        "id": "qNn0e7IQrhC1",
        "colab": {
          "base_uri": "https://localhost:8080/",
          "height": 298
        },
        "outputId": "284c7eb3-7dc1-4b30-95d7-f2279f7c0f05"
      },
      "source": [
        "# Subplots.\n",
        "t = np.arange(-2 * np.pi, 2 * np.pi, 0.1)\n",
        "x_sin = np.sin(t)\n",
        "x_cos = np.cos(t)\n",
        "\n",
        "# We want a 2 x 1 grid.\n",
        "# First plot\n",
        "plt.subplot(2, 1, 1)\n",
        "plt.plot(t, x_sin)\n",
        "plt.title('Sine')\n",
        "\n",
        "# Second plot\n",
        "plt.subplot(2, 1, 2)\n",
        "plt.plot(t, x_cos)\n",
        "plt.title('Cosine')\n",
        "\n",
        "# plt.tight_layout()"
      ],
      "execution_count": null,
      "outputs": [
        {
          "output_type": "execute_result",
          "data": {
            "text/plain": [
              "Text(0.5, 1.0, 'Cosine')"
            ]
          },
          "metadata": {
            "tags": []
          },
          "execution_count": 100
        },
        {
          "output_type": "display_data",
          "data": {
            "image/png": "[encoded data removed]",
            "text/plain": [
              "<Figure size 432x288 with 2 Axes>"
            ]
          },
          "metadata": {
            "tags": []
          }
        }
      ]
    },
    {
      "cell_type": "code",
      "metadata": {
        "id": "i9a0H2vtsG68"
      },
      "source": [],
      "execution_count": null,
      "outputs": []
    }
  ]
}